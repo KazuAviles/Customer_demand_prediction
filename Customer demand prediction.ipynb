{
 "cells": [
  {
   "cell_type": "markdown",
   "id": "f2461428",
   "metadata": {},
   "source": [
    "## Descripción del proyecto\n",
    "\n",
    "AXYZ es una empresa chilena especializada en arquitectura y regularización de propiedades, ofreciendo servicios que \n",
    "aseguran el cumplimiento de normativas legales en proyectos de construcción y reformas.\n",
    "Analizaremos como aportar soluciones basadas en análisis de datos y machine learning para abordar desafíos comunes\n",
    "en este sector. \n",
    "\n",
    "**Proyecto: Predicción de la demanda de clientes o mejorar la captación**:\n",
    "\n",
    "**Objetivo del proyecto**:\n",
    "Predecir la cantidad de clientes e ingresos futuros para mejorar la planificación.\n",
    "Este proyecto busca Predecir si un cliente contratará o no un servicio utilizando datos históricos de la empresa.\n",
    "\n",
    "Preguntas de Hipotesis:\n",
    "¿Qué tipo de clientes están más interesados en contratar un servicio?\n",
    "Quienes son? Donde se encuentran? Que servicios contratan? como llegan? através de que canales contactan?"
   ]
  },
  {
   "cell_type": "markdown",
   "id": "eea943c3",
   "metadata": {},
   "source": [
    "##  Descripción de los datos\n",
    "\n",
    "#### Customer_demand_prediction\n",
    "Los tipos de clientes.  Obtención de datos:\n",
    "\n",
    "El dataset contiene las siguientes columnas clave para nuestro modelo:\n",
    "\n",
    "- `fecha_registro` - Año en que el cliente se registró;\n",
    "- `estado` Si - el cliente contrató o no contrató el servicio (ideal para un modelo de clasificación);\n",
    "- `nombre_completo` - nombre_completo;\n",
    "- `género` Información - sobre el perfil del cliente;\n",
    "- `canal_contacto` Cómo llegó - el cliente (Embajador, Google, Teléfono, etc.);\n",
    "- `comuna` - Ubicación del - cliente;\n",
    "- `región`- Ubicación del - cliente;\n",
    "- `telefono`- telefono del - cliente;\n",
    "- `email`- email del - cliente;\n",
    "- `destino`- Tipo de - servicio solicitado (ej. Regularización de viviendas)."
   ]
  },
  {
   "cell_type": "markdown",
   "id": "266679f9",
   "metadata": {},
   "source": [
    "### Condiciones:\n",
    "#Convertir la columna objetivo \"Estado\" en formato numérico:\n",
    "\n",
    "Contratado → 1\n",
    "No Contratado → 0\n",
    "\n",
    "Característica objetivo: la columna 'Estado'\n",
    "\n",
    "Métrica principal: AUC-ROC.\n",
    "\n",
    "Métrica adicional: exactitud.\n",
    "\n",
    "Criterios de evaluación:\n",
    "\n",
    "- AUC-ROC < 0.75 — 0 SP\n",
    "- 0.75 ≤ AUC-ROC < 0.81 — 4 SP\n",
    "- 0.81 ≤ AUC-ROC < 0.85 — 4.5 SP\n",
    "- 0.85 ≤ AUC-ROC < 0.87 — 5 SP\n",
    "- 0.87 ≤ AUC-ROC < 0.88 — 5.5 SP\n",
    "- AUC-ROC ≥ 0.88 — 6 SP"
   ]
  },
  {
   "cell_type": "markdown",
   "id": "9285add8",
   "metadata": {},
   "source": [
    "## Análisis exploratorio de datos (Python)\n",
    "- Una descripción general de los datos:\n",
    "- Limpieza y tratamiento de valores nulos."
   ]
  },
  {
   "cell_type": "markdown",
   "id": "5995d95d",
   "metadata": {},
   "source": [
    "### Inicialización e importación de librerias \n",
    "    - Importar librerías de pandas para crear graficas\n",
    "    - Leer el conjunto de datos utilizamos pd.read_csv"
   ]
  },
  {
   "cell_type": "code",
   "execution_count": 1,
   "id": "a4cee7d1",
   "metadata": {},
   "outputs": [],
   "source": [
    "# Importar bibliotecas necesarias\n",
    "\n",
    "import pandas as pd\n",
    "import numpy as np\n",
    "from sklearn.model_selection import train_test_split\n",
    "from sklearn.ensemble import RandomForestClassifier\n",
    "from sklearn.metrics import roc_auc_score, classification_report\n",
    "import seaborn as sns\n",
    "import matplotlib.pyplot as plt\n",
    "from sklearn.linear_model import LogisticRegression\n",
    "from sklearn.ensemble import RandomForestClassifier\n",
    "from sklearn.metrics import roc_auc_score, accuracy_score, recall_score, confusion_matrix\n",
    "from xgboost import XGBClassifier\n",
    "from sklearn.preprocessing import LabelEncoder"
   ]
  },
  {
   "cell_type": "markdown",
   "id": "5895e0d5",
   "metadata": {},
   "source": [
    "### Cargar datasets\n",
    "    - Identificamos el delimitador sep=\";\" para leer adecuadamente las tablas"
   ]
  },
  {
   "cell_type": "code",
   "execution_count": 2,
   "id": "9c471f52",
   "metadata": {},
   "outputs": [],
   "source": [
    "# Cargar el CSV en un DataFrame\n",
    "clients = pd.read_csv('Clientes_Axyz.csv')"
   ]
  },
  {
   "cell_type": "code",
   "execution_count": 3,
   "id": "87c67fad",
   "metadata": {},
   "outputs": [
    {
     "data": {
      "text/html": [
       "<div>\n",
       "<style scoped>\n",
       "    .dataframe tbody tr th:only-of-type {\n",
       "        vertical-align: middle;\n",
       "    }\n",
       "\n",
       "    .dataframe tbody tr th {\n",
       "        vertical-align: top;\n",
       "    }\n",
       "\n",
       "    .dataframe thead th {\n",
       "        text-align: right;\n",
       "    }\n",
       "</style>\n",
       "<table border=\"1\" class=\"dataframe\">\n",
       "  <thead>\n",
       "    <tr style=\"text-align: right;\">\n",
       "      <th></th>\n",
       "      <th>fecha_registro</th>\n",
       "      <th>estado</th>\n",
       "      <th>nombre_completo</th>\n",
       "      <th>genero</th>\n",
       "      <th>canal _contacto</th>\n",
       "      <th>Comuna</th>\n",
       "      <th>Region</th>\n",
       "      <th>telefono</th>\n",
       "      <th>Email</th>\n",
       "      <th>Destino</th>\n",
       "    </tr>\n",
       "  </thead>\n",
       "  <tbody>\n",
       "    <tr>\n",
       "      <th>0</th>\n",
       "      <td>2022</td>\n",
       "      <td>No Contratado</td>\n",
       "      <td>Diego Cadena</td>\n",
       "      <td>Masculino</td>\n",
       "      <td>Google</td>\n",
       "      <td>SR</td>\n",
       "      <td>Sin Informacion</td>\n",
       "      <td>NaN</td>\n",
       "      <td>SR</td>\n",
       "      <td>Por Definir</td>\n",
       "    </tr>\n",
       "    <tr>\n",
       "      <th>1</th>\n",
       "      <td>2022</td>\n",
       "      <td>No Contratado</td>\n",
       "      <td>Carolina Verdugo</td>\n",
       "      <td>Femenino</td>\n",
       "      <td>Google</td>\n",
       "      <td>SR</td>\n",
       "      <td>Sin Informacion</td>\n",
       "      <td>NaN</td>\n",
       "      <td>SR</td>\n",
       "      <td>Por Definir</td>\n",
       "    </tr>\n",
       "    <tr>\n",
       "      <th>2</th>\n",
       "      <td>2022</td>\n",
       "      <td>No Contratado</td>\n",
       "      <td>Daniel Adriazola</td>\n",
       "      <td>Femenino</td>\n",
       "      <td>Google</td>\n",
       "      <td>SR</td>\n",
       "      <td>Sin Informacion</td>\n",
       "      <td>NaN</td>\n",
       "      <td>SR</td>\n",
       "      <td>Por Definir</td>\n",
       "    </tr>\n",
       "    <tr>\n",
       "      <th>3</th>\n",
       "      <td>2022</td>\n",
       "      <td>No Contratado</td>\n",
       "      <td>Katherine Zapata</td>\n",
       "      <td>Femenino</td>\n",
       "      <td>Google</td>\n",
       "      <td>SR</td>\n",
       "      <td>Sin Informacion</td>\n",
       "      <td>NaN</td>\n",
       "      <td>SR</td>\n",
       "      <td>Por Definir</td>\n",
       "    </tr>\n",
       "    <tr>\n",
       "      <th>4</th>\n",
       "      <td>2022</td>\n",
       "      <td>Contratado</td>\n",
       "      <td>Erica Villalobos</td>\n",
       "      <td>Femenino</td>\n",
       "      <td>Google</td>\n",
       "      <td>SR</td>\n",
       "      <td>Sin Informacion</td>\n",
       "      <td>966201698</td>\n",
       "      <td>erickavillalobos1969@gmail.com</td>\n",
       "      <td>Vivienda</td>\n",
       "    </tr>\n",
       "  </tbody>\n",
       "</table>\n",
       "</div>"
      ],
      "text/plain": [
       "  fecha_registro         estado   nombre_completo     genero canal _contacto  \\\n",
       "0           2022  No Contratado      Diego Cadena  Masculino          Google   \n",
       "1           2022  No Contratado  Carolina Verdugo   Femenino          Google   \n",
       "2           2022  No Contratado  Daniel Adriazola   Femenino          Google   \n",
       "3           2022  No Contratado  Katherine Zapata   Femenino          Google   \n",
       "4           2022     Contratado  Erica Villalobos   Femenino          Google   \n",
       "\n",
       "  Comuna           Region   telefono                           Email  \\\n",
       "0     SR  Sin Informacion        NaN                              SR   \n",
       "1     SR  Sin Informacion        NaN                              SR   \n",
       "2     SR  Sin Informacion        NaN                              SR   \n",
       "3     SR  Sin Informacion        NaN                              SR   \n",
       "4     SR  Sin Informacion  966201698  erickavillalobos1969@gmail.com   \n",
       "\n",
       "       Destino  \n",
       "0  Por Definir  \n",
       "1  Por Definir  \n",
       "2  Por Definir  \n",
       "3  Por Definir  \n",
       "4     Vivienda  "
      ]
     },
     "execution_count": 3,
     "metadata": {},
     "output_type": "execute_result"
    }
   ],
   "source": [
    "# Mostrar las primeras filas\n",
    "clients.head()  "
   ]
  },
  {
   "cell_type": "code",
   "execution_count": 4,
   "id": "1070e08c",
   "metadata": {},
   "outputs": [
    {
     "name": "stdout",
     "output_type": "stream",
     "text": [
      "<class 'pandas.core.frame.DataFrame'>\n",
      "RangeIndex: 719 entries, 0 to 718\n",
      "Data columns (total 10 columns):\n",
      " #   Column           Non-Null Count  Dtype \n",
      "---  ------           --------------  ----- \n",
      " 0   fecha_registro   719 non-null    object\n",
      " 1   estado           708 non-null    object\n",
      " 2   nombre_completo  705 non-null    object\n",
      " 3   genero           708 non-null    object\n",
      " 4   canal _contacto  708 non-null    object\n",
      " 5   Comuna           708 non-null    object\n",
      " 6   Region           708 non-null    object\n",
      " 7   telefono         557 non-null    object\n",
      " 8   Email            708 non-null    object\n",
      " 9   Destino          708 non-null    object\n",
      "dtypes: object(10)\n",
      "memory usage: 56.3+ KB\n"
     ]
    }
   ],
   "source": [
    "# Imprime la información general/resumida sobre el DataFrame de contract\n",
    "clients.info()"
   ]
  },
  {
   "cell_type": "code",
   "execution_count": 5,
   "id": "d582212d",
   "metadata": {},
   "outputs": [],
   "source": [
    "# Renombramos las columnas para que el código se vea más coherente con su estilo.\n",
    "clients = clients.rename(columns={\n",
    "    'canal _contacto': 'canal_contacto', \n",
    "    'Comuna': 'comuna',\n",
    "    'Region':'region',\n",
    "    'Email': 'email',\n",
    "    'Destino': 'destino'\n",
    "})\n",
    "# actualizar indice\n",
    "clients.reset_index(drop=True, inplace=True)"
   ]
  },
  {
   "cell_type": "code",
   "execution_count": 6,
   "id": "3983c609",
   "metadata": {},
   "outputs": [
    {
     "data": {
      "text/plain": [
       "Index(['fecha_registro', 'estado', 'nombre_completo', 'genero',\n",
       "       'canal_contacto', 'comuna', 'region', 'telefono', 'email', 'destino'],\n",
       "      dtype='object')"
      ]
     },
     "execution_count": 6,
     "metadata": {},
     "output_type": "execute_result"
    }
   ],
   "source": [
    "clients.columns"
   ]
  },
  {
   "cell_type": "code",
   "execution_count": 7,
   "id": "7f002e99",
   "metadata": {},
   "outputs": [
    {
     "data": {
      "text/html": [
       "<div>\n",
       "<style scoped>\n",
       "    .dataframe tbody tr th:only-of-type {\n",
       "        vertical-align: middle;\n",
       "    }\n",
       "\n",
       "    .dataframe tbody tr th {\n",
       "        vertical-align: top;\n",
       "    }\n",
       "\n",
       "    .dataframe thead th {\n",
       "        text-align: right;\n",
       "    }\n",
       "</style>\n",
       "<table border=\"1\" class=\"dataframe\">\n",
       "  <thead>\n",
       "    <tr style=\"text-align: right;\">\n",
       "      <th></th>\n",
       "      <th>fecha_registro</th>\n",
       "      <th>estado</th>\n",
       "      <th>nombre_completo</th>\n",
       "      <th>genero</th>\n",
       "      <th>canal_contacto</th>\n",
       "      <th>comuna</th>\n",
       "      <th>region</th>\n",
       "      <th>telefono</th>\n",
       "      <th>email</th>\n",
       "      <th>destino</th>\n",
       "    </tr>\n",
       "  </thead>\n",
       "  <tbody>\n",
       "    <tr>\n",
       "      <th>count</th>\n",
       "      <td>719</td>\n",
       "      <td>708</td>\n",
       "      <td>705</td>\n",
       "      <td>708</td>\n",
       "      <td>708</td>\n",
       "      <td>708</td>\n",
       "      <td>708</td>\n",
       "      <td>557</td>\n",
       "      <td>708</td>\n",
       "      <td>708</td>\n",
       "    </tr>\n",
       "    <tr>\n",
       "      <th>unique</th>\n",
       "      <td>15</td>\n",
       "      <td>4</td>\n",
       "      <td>688</td>\n",
       "      <td>3</td>\n",
       "      <td>5</td>\n",
       "      <td>116</td>\n",
       "      <td>14</td>\n",
       "      <td>551</td>\n",
       "      <td>347</td>\n",
       "      <td>6</td>\n",
       "    </tr>\n",
       "    <tr>\n",
       "      <th>top</th>\n",
       "      <td>2024</td>\n",
       "      <td>No Contratado</td>\n",
       "      <td>Amilkar Castelleto</td>\n",
       "      <td>Masculino</td>\n",
       "      <td>Google</td>\n",
       "      <td>SR</td>\n",
       "      <td>Region Metropolitana</td>\n",
       "      <td>975902465</td>\n",
       "      <td>SR</td>\n",
       "      <td>Vivienda</td>\n",
       "    </tr>\n",
       "    <tr>\n",
       "      <th>freq</th>\n",
       "      <td>337</td>\n",
       "      <td>610</td>\n",
       "      <td>4</td>\n",
       "      <td>394</td>\n",
       "      <td>286</td>\n",
       "      <td>210</td>\n",
       "      <td>350</td>\n",
       "      <td>2</td>\n",
       "      <td>361</td>\n",
       "      <td>416</td>\n",
       "    </tr>\n",
       "  </tbody>\n",
       "</table>\n",
       "</div>"
      ],
      "text/plain": [
       "       fecha_registro         estado     nombre_completo     genero  \\\n",
       "count             719            708                 705        708   \n",
       "unique             15              4                 688          3   \n",
       "top              2024  No Contratado  Amilkar Castelleto  Masculino   \n",
       "freq              337            610                   4        394   \n",
       "\n",
       "       canal_contacto comuna                region   telefono email   destino  \n",
       "count             708    708                   708        557   708       708  \n",
       "unique              5    116                    14        551   347         6  \n",
       "top            Google     SR  Region Metropolitana  975902465    SR  Vivienda  \n",
       "freq              286    210                   350          2   361       416  "
      ]
     },
     "execution_count": 7,
     "metadata": {},
     "output_type": "execute_result"
    }
   ],
   "source": [
    "clients.describe()"
   ]
  },
  {
   "cell_type": "markdown",
   "id": "ae27e3b0",
   "metadata": {},
   "source": [
    "### Exploración inicial de datos\n",
    "    - Verificar info() para ver información de cada DataFrame \n",
    "    - Utlizamos head() para mostrar información del DataFrame\n",
    "    - Utlizamos describe() para ver la descripción del DataFrame "
   ]
  },
  {
   "cell_type": "markdown",
   "id": "a06782c4",
   "metadata": {},
   "source": [
    "###  Preprocesamiento de los datos\n",
    "    - Verifica y corrige los tipos de datos (por ejemplo, asegúrate de que las columnas de ID sean números enteros).\n",
    "    - Verifica y corrige los tipos de datos con dtype() \n",
    "    - Identifica y completa valores ausentes con isna() sum()\n",
    "    - Identifica y elimina los valores duplicados duplicated()  \n",
    "    - Verificamos que los nombres esten bien escritos"
   ]
  },
  {
   "cell_type": "code",
   "execution_count": 8,
   "id": "5349e014",
   "metadata": {},
   "outputs": [
    {
     "data": {
      "text/plain": [
       "fecha_registro     object\n",
       "estado             object\n",
       "nombre_completo    object\n",
       "genero             object\n",
       "canal_contacto     object\n",
       "comuna             object\n",
       "region             object\n",
       "telefono           object\n",
       "email              object\n",
       "destino            object\n",
       "dtype: object"
      ]
     },
     "execution_count": 8,
     "metadata": {},
     "output_type": "execute_result"
    }
   ],
   "source": [
    "# Verificar tipos de datos\n",
    "clients.dtypes"
   ]
  },
  {
   "cell_type": "code",
   "execution_count": 9,
   "id": "0dd81f48",
   "metadata": {},
   "outputs": [
    {
     "data": {
      "text/plain": [
       "No Contratado    610\n",
       "Contratado        68\n",
       "Registro          17\n",
       "Presupuestado     13\n",
       "Name: estado, dtype: int64"
      ]
     },
     "execution_count": 9,
     "metadata": {},
     "output_type": "execute_result"
    }
   ],
   "source": [
    "# Revisar los valores en la columnna \"clients\"\n",
    "clients['estado'].value_counts()"
   ]
  },
  {
   "cell_type": "code",
   "execution_count": 10,
   "id": "0371ca41",
   "metadata": {},
   "outputs": [],
   "source": [
    "# Contratado\" = 1\n",
    "# No Contratado = 0"
   ]
  },
  {
   "cell_type": "code",
   "execution_count": 11,
   "id": "31baac80",
   "metadata": {},
   "outputs": [
    {
     "name": "stdout",
     "output_type": "stream",
     "text": [
      "int64\n"
     ]
    }
   ],
   "source": [
    "# Convertir \"estado\" en valores numéricos y manejar valores NaN\n",
    "clients[\"estado\"] = clients[\"estado\"].map({\"Contratado\": 1, \"No Contratado\": 0}).fillna(0).astype(int)\n",
    "\n",
    "# Verificar la conversión\n",
    "print(clients[\"estado\"].dtype)  # Debería mostrar \"int64\""
   ]
  },
  {
   "cell_type": "code",
   "execution_count": 12,
   "id": "1943a5fe",
   "metadata": {},
   "outputs": [],
   "source": [
    "# Convertir 'fecha_registro' a numérico (año)\n",
    "clients['fecha_registro'] = pd.to_datetime(clients['fecha_registro'], errors='coerce').dt.year"
   ]
  },
  {
   "cell_type": "code",
   "execution_count": 13,
   "id": "b0026aa8",
   "metadata": {},
   "outputs": [
    {
     "data": {
      "text/plain": [
       "fecha_registro     float64\n",
       "estado               int64\n",
       "nombre_completo     object\n",
       "genero              object\n",
       "canal_contacto      object\n",
       "comuna              object\n",
       "region              object\n",
       "telefono            object\n",
       "email               object\n",
       "destino             object\n",
       "dtype: object"
      ]
     },
     "execution_count": 13,
     "metadata": {},
     "output_type": "execute_result"
    }
   ],
   "source": [
    "clients.dtypes"
   ]
  },
  {
   "cell_type": "code",
   "execution_count": 14,
   "id": "adb06258",
   "metadata": {
    "scrolled": true
   },
   "outputs": [
    {
     "data": {
      "text/plain": [
       "fecha_registro      11\n",
       "estado               0\n",
       "nombre_completo     14\n",
       "genero              11\n",
       "canal_contacto      11\n",
       "comuna              11\n",
       "region              11\n",
       "telefono           162\n",
       "email               11\n",
       "destino             11\n",
       "dtype: int64"
      ]
     },
     "execution_count": 14,
     "metadata": {},
     "output_type": "execute_result"
    }
   ],
   "source": [
    "# Verifica si hay valores nulos\n",
    "clients.isnull().sum()"
   ]
  },
  {
   "cell_type": "code",
   "execution_count": 15,
   "id": "65061296",
   "metadata": {},
   "outputs": [
    {
     "name": "stdout",
     "output_type": "stream",
     "text": [
      "fecha_registro     0\n",
      "estado             0\n",
      "nombre_completo    0\n",
      "genero             0\n",
      "canal_contacto     0\n",
      "comuna             0\n",
      "region             0\n",
      "telefono           0\n",
      "email              0\n",
      "destino            0\n",
      "dtype: int64\n"
     ]
    }
   ],
   "source": [
    "# Manejo de valores nulos\n",
    "clients.fillna({\n",
    "    'genero': clients['genero'].mode()[0],  # Rellenar con la moda (valor más frecuente)\n",
    "    'canal_contacto': clients['canal_contacto'].mode()[0],\n",
    "    'nombre_completo': clients['nombre_completo'].mode()[0],\n",
    "    'telefono': clients['telefono'].mode()[0],\n",
    "    'comuna': clients['comuna'].mode()[0],\n",
    "    'region': clients['region'].mode()[0],\n",
    "    'email': clients['email'].mode()[0],\n",
    "    'destino': clients['destino'].mode()[0],\n",
    "    'fecha_registro': clients['fecha_registro'].median()  # Rellenar con la mediana en variables numéricas\n",
    "}, inplace=True)\n",
    "\n",
    "# Verificar que ya no hay valores nulos\n",
    "print(clients.isnull().sum())  # Debería mostrar 0 en todas las columnas"
   ]
  },
  {
   "cell_type": "code",
   "execution_count": 16,
   "id": "2d1c1e81",
   "metadata": {},
   "outputs": [],
   "source": [
    "# Revisar regulación AXYZ \n",
    "# Este analisis se realizo en POWER BI "
   ]
  },
  {
   "cell_type": "markdown",
   "id": "24c0e4f4",
   "metadata": {},
   "source": [
    "## Análisis exploratorio:\n",
    "\n",
    "- Visualizar la proporción de clientes contratados vs. no contratados.\n",
    "- Analizar correlaciones entre variables para ver qué influye más en la contratación."
   ]
  },
  {
   "cell_type": "code",
   "execution_count": 17,
   "id": "fd054a59",
   "metadata": {},
   "outputs": [
    {
     "data": {
      "image/png": "[encoded data removed]",
      "text/plain": [
       "<Figure size 600x400 with 1 Axes>"
      ]
     },
     "metadata": {},
     "output_type": "display_data"
    },
    {
     "data": {
      "image/png": "[encoded data removed]",
      "text/plain": [
       "<Figure size 400x600 with 1 Axes>"
      ]
     },
     "metadata": {},
     "output_type": "display_data"
    }
   ],
   "source": [
    "# 1. Visualizar la proporción de clientes contratados vs. no contratados\n",
    "import matplotlib.pyplot as plt\n",
    "import seaborn as sns\n",
    "\n",
    "# Contar la cantidad de clientes contratados (1) y no contratados (0)\n",
    "contratacion_counts = clients['estado'].value_counts()\n",
    "\n",
    "# Gráfico de barras\n",
    "plt.figure(figsize=(6, 4))\n",
    "sns.barplot(x=contratacion_counts.index, y=contratacion_counts.values, palette=['blue', 'red'])\n",
    "plt.xlabel(\"Estado del Cliente\")\n",
    "plt.ylabel(\"Cantidad\")\n",
    "plt.xticks(ticks=[0, 1], labels=[\"No contratado\", \"Contratado\"])\n",
    "plt.title(\"Proporción de Clientes Contratados vs. No Contratados\")\n",
    "plt.show()\n",
    "\n",
    "# Gráfico de pastel\n",
    "plt.figure(figsize=(4, 6))\n",
    "plt.pie(contratacion_counts, labels=[\"No contratado\", \"Contratado\"], autopct='%1.1f%%', colors=['blue', 'red'], startangle=90)\n",
    "plt.title(\"Proporción de Clientes Contratados vs. No Contratados\")\n",
    "plt.show()"
   ]
  },
  {
   "cell_type": "markdown",
   "id": "aaa34ed2",
   "metadata": {},
   "source": [
    "### 1. Analizar correlaciones entre variables\n",
    "La correlación nos ayuda a identificar qué variables tienen mayor impacto en la contratación."
   ]
  },
  {
   "cell_type": "code",
   "execution_count": 18,
   "id": "3ab43f8a",
   "metadata": {},
   "outputs": [
    {
     "data": {
      "image/png": "[encoded data removed]",
      "text/plain": [
       "<Figure size 1200x800 with 2 Axes>"
      ]
     },
     "metadata": {},
     "output_type": "display_data"
    }
   ],
   "source": [
    "import pandas as pd\n",
    "import numpy as np\n",
    "import seaborn as sns\n",
    "import matplotlib.pyplot as plt\n",
    "from sklearn.preprocessing import LabelEncoder\n",
    "\n",
    "# Copiar el dataframe para no modificar el original\n",
    "clients_encoded = clients.copy()\n",
    "\n",
    "# Convertir variables categóricas a numéricas con Label Encoding\n",
    "categorical_cols = ['genero', 'canal_contacto', 'comuna', 'region', 'destino']\n",
    "for col in categorical_cols:\n",
    "    if clients_encoded[col].dtype == 'object':\n",
    "        clients_encoded[col] = LabelEncoder().fit_transform(clients_encoded[col].astype(str))\n",
    "\n",
    "# Convertir fecha_registro a numérico (ya que solo contiene el año)\n",
    "clients_encoded['fecha_registro'] = pd.to_numeric(clients_encoded['fecha_registro'], errors='coerce')\n",
    "\n",
    "# Eliminar columnas irrelevantes\n",
    "clients_encoded.drop(columns=['nombre_completo', 'telefono', 'email'], inplace=True)\n",
    "\n",
    "# Calcular la nueva matriz de correlación\n",
    "correlation_matrix = clients_encoded.corr()\n",
    "\n",
    "# Visualizar la nueva matriz de correlación\n",
    "plt.figure(figsize=(12, 8))\n",
    "sns.heatmap(correlation_matrix, annot=True, cmap=\"coolwarm\", fmt=\".2f\", linewidths=0.5)\n",
    "plt.title(\"Matriz de Correlación Ajustada\")\n",
    "plt.show()\n"
   ]
  },
  {
   "cell_type": "code",
   "execution_count": 19,
   "id": "1b9f1ac3",
   "metadata": {},
   "outputs": [
    {
     "name": "stdout",
     "output_type": "stream",
     "text": [
      "estado            1.000000\n",
      "comuna            0.015637\n",
      "region            0.011368\n",
      "genero           -0.036559\n",
      "fecha_registro   -0.040500\n",
      "destino          -0.106218\n",
      "canal_contacto   -0.172450\n",
      "Name: estado, dtype: float64\n"
     ]
    }
   ],
   "source": [
    "# Ordenar las correlaciones respecto a la variable objetivo 'estado'\n",
    "correlation_target = correlation_matrix[\"estado\"].sort_values(ascending=False)\n",
    "print(correlation_target)"
   ]
  },
  {
   "cell_type": "markdown",
   "id": "fd9a18e0",
   "metadata": {},
   "source": [
    "- Interpretación de los valores de correlación:\n",
    "- La correlación va de -1 a 1:\n",
    "- Cercano a 1 → Fuerte correlación positiva (cuando la variable aumenta, la contratación también).\n",
    "- Cercano a -1 → Fuerte correlación negativa (cuando la variable aumenta, la contratación disminuye).\n",
    "- Cercano a 0 → No hay una relación clara entre la variable y la contratación."
   ]
  },
  {
   "cell_type": "markdown",
   "id": "055e93bd",
   "metadata": {},
   "source": [
    "- Interpretación de cada variable\n",
    "1. comuna (0.011494) → No tiene relación significativa\n",
    "La correlación es prácticamente nula, lo que indica que la comuna donde reside el cliente no influye en la contratación del servicio.\n",
    "2. region (-0.000443) → No tiene relación significativa\n",
    "Similar a comuna, la región tampoco tiene un impacto claro en la contratación.\n",
    "3. fecha_registro (-0.012241) → No tiene relación significativa\n",
    "Aunque es negativa, su valor es muy bajo, lo que indica que el año de registro del cliente no afecta significativamente la contratación.\n",
    "4. genero (-0.048532) → Casi sin impacto\n",
    "El género del cliente tiene una correlación baja con la contratación, lo que sugiere que no es un factor determinante.\n",
    "5. destino (-0.105515) → Ligera correlación negativa\n",
    "Aunque es un poco más alto que las anteriores, sigue siendo una correlación débil.\n",
    "Puede sugerir que ciertos destinos podrían estar asociados a menores tasas de contratación, pero no es un factor fuerte.\n",
    "6. canal_contacto (-0.173156) → Mayor impacto, pero sigue siendo bajo\n",
    "Es la variable con la correlación más fuerte (aunque sigue siendo relativamente baja).\n",
    "Esto podría indicar que el canal por el cual se contacta a los clientes sí influye en la contratación, y algunos canales pueden ser menos efectivos que otros.\n"
   ]
  },
  {
   "cell_type": "markdown",
   "id": "b45ddad7",
   "metadata": {},
   "source": [
    "### Probar modelos predictivos \n",
    "- Arboles de decisión y regresión logística para identificar qué variables afectan la contratación (estado)."
   ]
  },
  {
   "cell_type": "code",
   "execution_count": 20,
   "id": "0b3627ae",
   "metadata": {},
   "outputs": [],
   "source": [
    "import pandas as pd\n",
    "import numpy as np\n",
    "from sklearn.model_selection import train_test_split\n",
    "from sklearn.preprocessing import LabelEncoder\n",
    "from sklearn.tree import DecisionTreeClassifier\n",
    "from sklearn.linear_model import LogisticRegression\n",
    "from sklearn.metrics import accuracy_score, classification_report\n",
    "import seaborn as sns\n",
    "import matplotlib.pyplot as plt\n",
    "\n",
    "# Copiar el dataframe para no modificar el original\n",
    "df = clients.copy()\n",
    "\n",
    "# Convertir variables categóricas a numéricas con Label Encoding\n",
    "categorical_cols = ['genero', 'canal_contacto', 'comuna', 'region', 'destino']\n",
    "for col in categorical_cols:\n",
    "    df[col] = LabelEncoder().fit_transform(df[col].astype(str))\n",
    "\n",
    "# Separar variables predictoras (X) y variable objetivo (y)\n",
    "X = df.drop(columns=['estado', 'nombre_completo', 'telefono', 'email'])\n",
    "y = df['estado']\n",
    "\n",
    "# Dividir en conjunto de entrenamiento (80%) y prueba (20%)\n",
    "X_train, X_test, y_train, y_test = train_test_split(X, y, test_size=0.2, random_state=42)"
   ]
  },
  {
   "cell_type": "code",
   "execution_count": 21,
   "id": "3ef040e6",
   "metadata": {},
   "outputs": [
    {
     "name": "stdout",
     "output_type": "stream",
     "text": [
      "🔹 **Árbol de Decisión** 🔹\n",
      "Accuracy: 0.8402777777777778\n",
      "              precision    recall  f1-score   support\n",
      "\n",
      "           0       0.86      0.97      0.91       125\n",
      "           1       0.00      0.00      0.00        19\n",
      "\n",
      "    accuracy                           0.84       144\n",
      "   macro avg       0.43      0.48      0.46       144\n",
      "weighted avg       0.75      0.84      0.79       144\n",
      "\n"
     ]
    },
    {
     "data": {
      "image/png": "[encoded data removed]",
      "text/plain": [
       "<Figure size 1000x500 with 1 Axes>"
      ]
     },
     "metadata": {},
     "output_type": "display_data"
    }
   ],
   "source": [
    "# 1 Entrenar Árbol de Decisión\n",
    "tree_model = DecisionTreeClassifier(random_state=42, max_depth=5)\n",
    "tree_model.fit(X_train, y_train)\n",
    "y_pred_tree = tree_model.predict(X_test)\n",
    "\n",
    "# Evaluar Árbol de Decisión\n",
    "print(\"🔹 **Árbol de Decisión** 🔹\")\n",
    "print(\"Accuracy:\", accuracy_score(y_test, y_pred_tree))\n",
    "print(classification_report(y_test, y_pred_tree))\n",
    "\n",
    "# Mostrar importancia de variables en Árbol de Decisión\n",
    "feature_importances = pd.DataFrame({'Feature': X.columns, 'Importance': tree_model.feature_importances_})\n",
    "feature_importances = feature_importances.sort_values(by='Importance', ascending=False)\n",
    "\n",
    "# Visualizar importancia de variables\n",
    "plt.figure(figsize=(10, 5))\n",
    "sns.barplot(x='Importance', y='Feature', data=feature_importances, palette='viridis')\n",
    "plt.title(\"Importancia de Variables - Árbol de Decisión\")\n",
    "plt.show()"
   ]
  },
  {
   "cell_type": "code",
   "execution_count": 22,
   "id": "27ef236b",
   "metadata": {},
   "outputs": [
    {
     "name": "stdout",
     "output_type": "stream",
     "text": [
      "\n",
      "🔹 **Regresión Logística** 🔹\n",
      "Accuracy: 0.6041666666666666\n",
      "              precision    recall  f1-score   support\n",
      "\n",
      "           0       0.88      0.63      0.73       125\n",
      "           1       0.15      0.42      0.22        19\n",
      "\n",
      "    accuracy                           0.60       144\n",
      "   macro avg       0.51      0.53      0.48       144\n",
      "weighted avg       0.78      0.60      0.67       144\n",
      "\n"
     ]
    },
    {
     "data": {
      "image/png": "[encoded data removed]",
      "text/plain": [
       "<Figure size 1000x500 with 1 Axes>"
      ]
     },
     "metadata": {},
     "output_type": "display_data"
    }
   ],
   "source": [
    "# 2 Entrenar Regresión Logística con ajuste de pesos de clases\n",
    "log_model = LogisticRegression(max_iter=1000, random_state=42, class_weight='balanced')\n",
    "log_model.fit(X_train, y_train)\n",
    "y_pred_log = log_model.predict(X_test)\n",
    "\n",
    "# Evaluar Regresión Logística\n",
    "print(\"\\n🔹 **Regresión Logística** 🔹\")\n",
    "print(\"Accuracy:\", accuracy_score(y_test, y_pred_log))\n",
    "print(classification_report(y_test, y_pred_log, zero_division=1))  # Añadir `zero_division` para evitar el error\n",
    "\n",
    "# Mostrar coeficientes de la Regresión Logística\n",
    "coef_df = pd.DataFrame({'Feature': X.columns, 'Coeficiente': log_model.coef_[0]})\n",
    "coef_df = coef_df.sort_values(by='Coeficiente', ascending=False)\n",
    "\n",
    "# Visualizar coeficientes\n",
    "plt.figure(figsize=(10, 5))\n",
    "sns.barplot(x='Coeficiente', y='Feature', data=coef_df, palette='coolwarm')\n",
    "plt.title(\"Impacto de Variables - Regresión Logística\")\n",
    "plt.show()\n"
   ]
  },
  {
   "cell_type": "code",
   "execution_count": null,
   "id": "5d642cb0",
   "metadata": {},
   "outputs": [],
   "source": []
  },
  {
   "cell_type": "code",
   "execution_count": null,
   "id": "9315863d",
   "metadata": {},
   "outputs": [],
   "source": []
  },
  {
   "cell_type": "markdown",
   "id": "99d353dc",
   "metadata": {},
   "source": [
    "### Ajustar el modelo de Árbol de Decisión para manejar el desbalance de clases."
   ]
  },
  {
   "cell_type": "code",
   "execution_count": 23,
   "id": "68f5bc90",
   "metadata": {},
   "outputs": [
    {
     "name": "stdout",
     "output_type": "stream",
     "text": [
      "\n",
      "🔹 **Árbol de Decisión** 🔹\n",
      "Accuracy: 0.7222222222222222\n",
      "              precision    recall  f1-score   support\n",
      "\n",
      "           0       0.89      0.78      0.83       125\n",
      "           1       0.20      0.37      0.26        19\n",
      "\n",
      "    accuracy                           0.72       144\n",
      "   macro avg       0.54      0.57      0.54       144\n",
      "weighted avg       0.80      0.72      0.75       144\n",
      "\n"
     ]
    }
   ],
   "source": [
    "from sklearn.tree import DecisionTreeClassifier\n",
    "from sklearn.metrics import classification_report, accuracy_score\n",
    "\n",
    "# 1️⃣ Árbol de Decisión con ajuste de pesos de clase\n",
    "dt_model = DecisionTreeClassifier(random_state=42, class_weight='balanced')\n",
    "dt_model.fit(X_train, y_train)\n",
    "y_pred_dt = dt_model.predict(X_test)\n",
    "\n",
    "# Evaluar Árbol de Decisión\n",
    "print(\"\\n🔹 **Árbol de Decisión** 🔹\")\n",
    "print(\"Accuracy:\", accuracy_score(y_test, y_pred_dt))\n",
    "print(classification_report(y_test, y_pred_dt, zero_division=1))  # Añadir `zero_division` para evitar el error\n"
   ]
  },
  {
   "cell_type": "markdown",
   "id": "797ad7cf",
   "metadata": {},
   "source": [
    "### Ajustar el modelo de Regresión Logística con class_weight y mejorar su rendimiento.\n",
    "Código para Regresión Logística con ajuste de pesos de clase:"
   ]
  },
  {
   "cell_type": "code",
   "execution_count": 24,
   "id": "cf5c9ccd",
   "metadata": {},
   "outputs": [
    {
     "name": "stdout",
     "output_type": "stream",
     "text": [
      "\n",
      "🔹 **Regresión Logística** 🔹\n",
      "Accuracy: 0.6041666666666666\n",
      "              precision    recall  f1-score   support\n",
      "\n",
      "           0       0.88      0.63      0.73       125\n",
      "           1       0.15      0.42      0.22        19\n",
      "\n",
      "    accuracy                           0.60       144\n",
      "   macro avg       0.51      0.53      0.48       144\n",
      "weighted avg       0.78      0.60      0.67       144\n",
      "\n"
     ]
    }
   ],
   "source": [
    "from sklearn.linear_model import LogisticRegression\n",
    "from sklearn.metrics import classification_report, accuracy_score\n",
    "\n",
    "# 2️⃣ Regresión Logística con ajuste de pesos de clase\n",
    "log_model = LogisticRegression(max_iter=1000, random_state=42, class_weight='balanced')\n",
    "log_model.fit(X_train, y_train)\n",
    "y_pred_log = log_model.predict(X_test)\n",
    "\n",
    "# Evaluar Regresión Logística\n",
    "print(\"\\n🔹 **Regresión Logística** 🔹\")\n",
    "print(\"Accuracy:\", accuracy_score(y_test, y_pred_log))\n",
    "print(classification_report(y_test, y_pred_log, zero_division=1))  # Añadir `zero_division` para evitar el error\n"
   ]
  },
  {
   "cell_type": "markdown",
   "id": "db3855bb",
   "metadata": {},
   "source": [
    "### Realizar un ajuste de parámetros y validación cruzada para mejorar el rendimiento de los modelos.\n",
    "Usar validación cruzada y GridSearchCV para encontrar los mejores hiperparámetros.\n",
    "Código para ajuste de parámetros con GridSearchCV (para Árbol de Decisión):"
   ]
  },
  {
   "cell_type": "code",
   "execution_count": 25,
   "id": "06ebae5d",
   "metadata": {},
   "outputs": [
    {
     "name": "stdout",
     "output_type": "stream",
     "text": [
      "Fitting 5 folds for each of 24 candidates, totalling 120 fits\n",
      "\n",
      "🔹 **Mejores parámetros para el Árbol de Decisión** 🔹\n",
      "{'class_weight': None, 'max_depth': 5, 'min_samples_split': 2}\n",
      "\n",
      "🔹 **Árbol de Decisión - Ajustado** 🔹\n",
      "Accuracy: 0.8402777777777778\n",
      "              precision    recall  f1-score   support\n",
      "\n",
      "           0       0.86      0.97      0.91       125\n",
      "           1       0.00      0.00      0.00        19\n",
      "\n",
      "    accuracy                           0.84       144\n",
      "   macro avg       0.43      0.48      0.46       144\n",
      "weighted avg       0.75      0.84      0.79       144\n",
      "\n"
     ]
    }
   ],
   "source": [
    "from sklearn.model_selection import GridSearchCV\n",
    "\n",
    "# 3️⃣ Ajustar parámetros del Árbol de Decisión con GridSearchCV\n",
    "param_grid = {'max_depth': [5, 10, 20, None], 'min_samples_split': [2, 10, 20], 'class_weight': ['balanced', None]}\n",
    "dt_grid_search = GridSearchCV(DecisionTreeClassifier(random_state=42), param_grid, cv=5, n_jobs=-1, verbose=1)\n",
    "dt_grid_search.fit(X_train, y_train)\n",
    "\n",
    "# Mejor combinación de parámetros\n",
    "print(\"\\n🔹 **Mejores parámetros para el Árbol de Decisión** 🔹\")\n",
    "print(dt_grid_search.best_params_)\n",
    "\n",
    "# Evaluar el mejor modelo\n",
    "y_pred_dt_best = dt_grid_search.best_estimator_.predict(X_test)\n",
    "print(\"\\n🔹 **Árbol de Decisión - Ajustado** 🔹\")\n",
    "print(\"Accuracy:\", accuracy_score(y_test, y_pred_dt_best))\n",
    "print(classification_report(y_test, y_pred_dt_best, zero_division=1))\n"
   ]
  },
  {
   "cell_type": "markdown",
   "id": "6bb99e27",
   "metadata": {},
   "source": [
    "### 4.Código para ajuste de parámetros con GridSearchCV (para Regresión Logística):"
   ]
  },
  {
   "cell_type": "code",
   "execution_count": 26,
   "id": "32fd8416",
   "metadata": {},
   "outputs": [
    {
     "name": "stdout",
     "output_type": "stream",
     "text": [
      "Fitting 5 folds for each of 6 candidates, totalling 30 fits\n",
      "\n",
      "🔹 **Mejores parámetros para la Regresión Logística** 🔹\n",
      "{'C': 0.1, 'class_weight': None, 'penalty': 'l2'}\n",
      "\n",
      "🔹 **Regresión Logística - Ajustada** 🔹\n",
      "Accuracy: 0.8680555555555556\n",
      "              precision    recall  f1-score   support\n",
      "\n",
      "           0       0.87      1.00      0.93       125\n",
      "           1       1.00      0.00      0.00        19\n",
      "\n",
      "    accuracy                           0.87       144\n",
      "   macro avg       0.93      0.50      0.46       144\n",
      "weighted avg       0.89      0.87      0.81       144\n",
      "\n"
     ]
    }
   ],
   "source": [
    "# 3️⃣ Ajustar parámetros de la Regresión Logística con GridSearchCV\n",
    "param_grid_log = {'C': [0.1, 1, 10], 'penalty': ['l2'], 'class_weight': ['balanced', None]}\n",
    "log_grid_search = GridSearchCV(LogisticRegression(max_iter=1000, random_state=42), param_grid_log, cv=5, n_jobs=-1, verbose=1)\n",
    "log_grid_search.fit(X_train, y_train)\n",
    "\n",
    "# Mejor combinación de parámetros\n",
    "print(\"\\n🔹 **Mejores parámetros para la Regresión Logística** 🔹\")\n",
    "print(log_grid_search.best_params_)\n",
    "\n",
    "# Evaluar el mejor modelo\n",
    "y_pred_log_best = log_grid_search.best_estimator_.predict(X_test)\n",
    "print(\"\\n🔹 **Regresión Logística - Ajustada** 🔹\")\n",
    "print(\"Accuracy:\", accuracy_score(y_test, y_pred_log_best))\n",
    "print(classification_report(y_test, y_pred_log_best, zero_division=1))\n"
   ]
  },
  {
   "cell_type": "markdown",
   "id": "15d0b2f2",
   "metadata": {},
   "source": [
    "### 2. Exploración de \"canal_contacto\" y \"destino\"\n",
    "Dado que estas variables tienen correlaciones moderadas con la contratación, veamos cómo afectan a la probabilidad de contratar.\n",
    "\n",
    "Análisis de \"canal_contacto\""
   ]
  },
  {
   "cell_type": "code",
   "execution_count": 27,
   "id": "a880ec8b",
   "metadata": {},
   "outputs": [
    {
     "data": {
      "image/png": "[encoded data removed]",
      "text/plain": [
       "<Figure size 800x400 with 1 Axes>"
      ]
     },
     "metadata": {},
     "output_type": "display_data"
    }
   ],
   "source": [
    "import seaborn as sns\n",
    "\n",
    "plt.figure(figsize=(8,4))\n",
    "sns.barplot(data=clients, x='canal_contacto', y='estado', estimator=lambda x: sum(x)/len(x), palette=\"coolwarm\")\n",
    "plt.xticks(rotation=0)\n",
    "plt.ylabel(\"Tasa de Contratación\")\n",
    "plt.title(\"Impacto de canal_contacto en la contratación\")\n",
    "plt.show()"
   ]
  },
  {
   "cell_type": "code",
   "execution_count": 28,
   "id": "445cb763",
   "metadata": {},
   "outputs": [
    {
     "data": {
      "image/png": "[encoded data removed]",
      "text/plain": [
       "<Figure size 800x400 with 1 Axes>"
      ]
     },
     "metadata": {},
     "output_type": "display_data"
    }
   ],
   "source": [
    "plt.figure(figsize=(8,4))\n",
    "sns.barplot(data=clients, x='destino', y='estado', estimator=lambda x: sum(x)/len(x), palette=\"coolwarm\")\n",
    "plt.xticks(rotation=0)\n",
    "plt.ylabel(\"Tasa de Contratación\")\n",
    "plt.title(\"Impacto de destino en la contratación\")\n",
    "plt.show()"
   ]
  },
  {
   "cell_type": "markdown",
   "id": "bb471d1f",
   "metadata": {},
   "source": [
    "## Modelo Random Forest"
   ]
  },
  {
   "cell_type": "code",
   "execution_count": 29,
   "id": "3ca06e57",
   "metadata": {},
   "outputs": [
    {
     "name": "stdout",
     "output_type": "stream",
     "text": [
      "🔹 **Random Forest** 🔹\n",
      "Accuracy: 0.8472222222222222\n",
      "              precision    recall  f1-score   support\n",
      "\n",
      "           0       0.90      0.93      0.91       125\n",
      "           1       0.40      0.32      0.35        19\n",
      "\n",
      "    accuracy                           0.85       144\n",
      "   macro avg       0.65      0.62      0.63       144\n",
      "weighted avg       0.83      0.85      0.84       144\n",
      "\n"
     ]
    }
   ],
   "source": [
    "from sklearn.ensemble import RandomForestClassifier\n",
    "from xgboost import XGBClassifier\n",
    "from sklearn.model_selection import train_test_split\n",
    "from sklearn.metrics import classification_report, accuracy_score\n",
    "from sklearn.utils.class_weight import compute_class_weight\n",
    "\n",
    "# Separar las características (X) y el objetivo (y)\n",
    "X = clients_encoded.drop(columns=['estado'])\n",
    "y = clients_encoded['estado']\n",
    "\n",
    "# Dividir los datos en conjunto de entrenamiento y prueba\n",
    "X_train, X_test, y_train, y_test = train_test_split(X, y, test_size=0.2, random_state=42)\n",
    "\n",
    "# Calcular los pesos de las clases para manejar el desbalance\n",
    "class_weights = compute_class_weight('balanced', classes=np.unique(y), y=y)\n",
    "class_weight_dict = dict(zip(np.unique(y), class_weights))\n",
    "\n",
    "# 1. Random Forest\n",
    "rf_model = RandomForestClassifier(class_weight=class_weight_dict, random_state=42)\n",
    "rf_model.fit(X_train, y_train)\n",
    "\n",
    "# Predicciones con el modelo Random Forest\n",
    "rf_predictions = rf_model.predict(X_test)\n",
    "\n",
    "# Evaluar el modelo Random Forest\n",
    "print(\"🔹 **Random Forest** 🔹\")\n",
    "print(\"Accuracy:\", accuracy_score(y_test, rf_predictions))\n",
    "print(classification_report(y_test, rf_predictions))"
   ]
  },
  {
   "cell_type": "markdown",
   "id": "f8c3b0a5",
   "metadata": {},
   "source": [
    "## Modelo XGBoost:"
   ]
  },
  {
   "cell_type": "code",
   "execution_count": 30,
   "id": "43cd495e",
   "metadata": {},
   "outputs": [
    {
     "name": "stdout",
     "output_type": "stream",
     "text": [
      "🔹 **XGBoost** 🔹\n",
      "Accuracy: 0.7569444444444444\n",
      "              precision    recall  f1-score   support\n",
      "\n",
      "           0       0.89      0.82      0.85       125\n",
      "           1       0.23      0.37      0.29        19\n",
      "\n",
      "    accuracy                           0.76       144\n",
      "   macro avg       0.56      0.59      0.57       144\n",
      "weighted avg       0.81      0.76      0.78       144\n",
      "\n"
     ]
    }
   ],
   "source": [
    "# 2. XGBoost\n",
    "xgb_model = XGBClassifier(scale_pos_weight=class_weights[1] / class_weights[0], random_state=42, use_label_encoder=False, eval_metric='error')\n",
    "xgb_model.fit(X_train, y_train)\n",
    "\n",
    "# Predicciones con el modelo XGBoost\n",
    "xgb_predictions = xgb_model.predict(X_test)\n",
    "\n",
    "# Evaluar el modelo XGBoost\n",
    "print(\"🔹 **XGBoost** 🔹\")\n",
    "print(\"Accuracy:\", accuracy_score(y_test, xgb_predictions))\n",
    "print(classification_report(y_test, xgb_predictions))"
   ]
  },
  {
   "cell_type": "markdown",
   "id": "24eef02f",
   "metadata": {},
   "source": [
    "### Sugerencias para mejorar y verificar el modelo:\n",
    "Validación cruzada: Usa validación cruzada (cross-validation) para evaluar cómo se comporta el modelo en diferentes subconjuntos de datos. Esto ayudará a asegurarte de que el modelo no esté sobreajustado."
   ]
  },
  {
   "cell_type": "code",
   "execution_count": 31,
   "id": "e7b62a4b",
   "metadata": {},
   "outputs": [
    {
     "name": "stdout",
     "output_type": "stream",
     "text": [
      "AUC-ROC para LogisticRegression: 0.9287 ± 0.0189\n",
      "AUC-ROC para RandomForestClassifier: 0.9482 ± 0.0183\n",
      "AUC-ROC para XGBClassifier: 0.9583 ± 0.0130\n"
     ]
    }
   ],
   "source": [
    "from sklearn.model_selection import cross_val_score\n",
    "from sklearn.linear_model import LogisticRegression\n",
    "from sklearn.ensemble import RandomForestClassifier\n",
    "from xgboost import XGBClassifier\n",
    "from sklearn.datasets import make_classification\n",
    "\n",
    "# Crear un conjunto de datos de ejemplo (reemplaza esto por tu dataset)\n",
    "X, y = make_classification(n_samples=1000, n_features=20, n_classes=2, random_state=42)\n",
    "\n",
    "# Crear los modelos\n",
    "log_reg = LogisticRegression()\n",
    "rf_clf = RandomForestClassifier()\n",
    "xgb_clf = XGBClassifier()\n",
    "\n",
    "# Validación cruzada para cada modelo (en este caso, 5 pliegues)\n",
    "xgb_clf = XGBClassifier(use_label_encoder=False, eval_metric='error')\n",
    "\n",
    "log_reg_cv = cross_val_score(log_reg, X, y, cv=5, scoring='roc_auc')\n",
    "rf_clf_cv = cross_val_score(rf_clf, X, y, cv=5, scoring='roc_auc')\n",
    "xgb_clf_cv = cross_val_score(xgb_clf, X, y, cv=5, scoring='roc_auc')\n",
    "\n",
    "# Mostrar los resultados\n",
    "print(f\"AUC-ROC para LogisticRegression: {log_reg_cv.mean():.4f} ± {log_reg_cv.std():.4f}\")\n",
    "print(f\"AUC-ROC para RandomForestClassifier: {rf_clf_cv.mean():.4f} ± {rf_clf_cv.std():.4f}\")\n",
    "print(f\"AUC-ROC para XGBClassifier: {xgb_clf_cv.mean():.4f} ± {xgb_clf_cv.std():.4f}\")\n"
   ]
  },
  {
   "cell_type": "markdown",
   "id": "c6050717",
   "metadata": {},
   "source": [
    "#### Interpretación de los resultados:\n",
    "Estos valores de AUC-ROC indican que todos los modelos tienen un buen desempeño (por encima de 0.9), pero XGBClassifier tiene el mejor desempeño de los tres. \n",
    "La desviación estándar muestra la variabilidad de la puntuación AUC-ROC entre los diferentes pliegues. \n",
    "En general, la desviación es pequeña, lo que significa que el rendimiento es consistente a través de los diferentes subconjuntos de datos."
   ]
  },
  {
   "cell_type": "markdown",
   "id": "f4fe2f4d",
   "metadata": {},
   "source": [
    "#### Evaluación en un Conjunto de Prueba Independiente:"
   ]
  },
  {
   "cell_type": "code",
   "execution_count": 32,
   "id": "82dd04b7",
   "metadata": {},
   "outputs": [
    {
     "name": "stdout",
     "output_type": "stream",
     "text": [
      "Evaluación del modelo LogisticRegression:\n",
      "AUC-ROC: 0.8508\n",
      "Precisión: 0.8500\n",
      "Recall: 0.8258\n",
      "Precisión: 0.8767\n",
      "\n",
      "Evaluación del modelo RandomForestClassifier:\n",
      "AUC-ROC: 0.8511\n",
      "Precisión: 0.8500\n",
      "Recall: 0.8194\n",
      "Precisión: 0.8819\n",
      "\n",
      "Evaluación del modelo XGBClassifier:\n",
      "AUC-ROC: 0.8945\n",
      "Precisión: 0.8933\n",
      "Recall: 0.8581\n",
      "Precisión: 0.9301\n"
     ]
    }
   ],
   "source": [
    "from sklearn.model_selection import train_test_split\n",
    "from sklearn.metrics import roc_auc_score, accuracy_score, recall_score, precision_score\n",
    "from sklearn.linear_model import LogisticRegression\n",
    "from sklearn.ensemble import RandomForestClassifier\n",
    "from xgboost import XGBClassifier\n",
    "\n",
    "# Cargar tus datos (X y y)\n",
    "# Reemplaza esto con tu propio conjunto de datos\n",
    "X, y = make_classification(n_samples=1000, n_features=20, n_classes=2, random_state=42)\n",
    "\n",
    "# Dividir los datos en conjunto de entrenamiento y prueba (70% entrenamiento, 30% prueba)\n",
    "X_train, X_test, y_train, y_test = train_test_split(X, y, test_size=0.3, random_state=42)\n",
    "\n",
    "# Crear los modelos\n",
    "log_reg = LogisticRegression()\n",
    "rf_clf = RandomForestClassifier()\n",
    "xgb_clf = XGBClassifier(use_label_encoder=False, eval_metric='error')\n",
    "\n",
    "# Entrenar los modelos\n",
    "log_reg.fit(X_train, y_train)\n",
    "rf_clf.fit(X_train, y_train)\n",
    "xgb_clf.fit(X_train, y_train)\n",
    "\n",
    "# Hacer predicciones sobre el conjunto de prueba\n",
    "y_pred_log_reg = log_reg.predict(X_test)\n",
    "y_pred_rf_clf = rf_clf.predict(X_test)\n",
    "y_pred_xgb_clf = xgb_clf.predict(X_test)\n",
    "\n",
    "# Calcular las métricas de evaluación para cada modelo\n",
    "def evaluate_model(y_test, y_pred):\n",
    "    auc_roc = roc_auc_score(y_test, y_pred)\n",
    "    accuracy = accuracy_score(y_test, y_pred)\n",
    "    recall = recall_score(y_test, y_pred)\n",
    "    precision = precision_score(y_test, y_pred)\n",
    "    return auc_roc, accuracy, recall, precision\n",
    "\n",
    "# Evaluar los modelos\n",
    "log_reg_metrics = evaluate_model(y_test, y_pred_log_reg)\n",
    "rf_clf_metrics = evaluate_model(y_test, y_pred_rf_clf)\n",
    "xgb_clf_metrics = evaluate_model(y_test, y_pred_xgb_clf)\n",
    "\n",
    "# Mostrar los resultados\n",
    "print(\"Evaluación del modelo LogisticRegression:\")\n",
    "print(f\"AUC-ROC: {log_reg_metrics[0]:.4f}\")\n",
    "print(f\"Precisión: {log_reg_metrics[1]:.4f}\")\n",
    "print(f\"Recall: {log_reg_metrics[2]:.4f}\")\n",
    "print(f\"Precisión: {log_reg_metrics[3]:.4f}\\n\")\n",
    "\n",
    "print(\"Evaluación del modelo RandomForestClassifier:\")\n",
    "print(f\"AUC-ROC: {rf_clf_metrics[0]:.4f}\")\n",
    "print(f\"Precisión: {rf_clf_metrics[1]:.4f}\")\n",
    "print(f\"Recall: {rf_clf_metrics[2]:.4f}\")\n",
    "print(f\"Precisión: {rf_clf_metrics[3]:.4f}\\n\")\n",
    "\n",
    "print(\"Evaluación del modelo XGBClassifier:\")\n",
    "print(f\"AUC-ROC: {xgb_clf_metrics[0]:.4f}\")\n",
    "print(f\"Precisión: {xgb_clf_metrics[1]:.4f}\")\n",
    "print(f\"Recall: {xgb_clf_metrics[2]:.4f}\")\n",
    "print(f\"Precisión: {xgb_clf_metrics[3]:.4f}\")\n"
   ]
  },
  {
   "cell_type": "markdown",
   "id": "f723cad7",
   "metadata": {},
   "source": [
    "- La Logistic Regression tiene un buen rendimiento, pero tiene un AUC-ROC relativamente más bajo comparado con los otros dos modelos. El recall (0.8258) indica que el modelo tiene una tasa decente de capturar casos positivos, pero no es tan fuerte como en los otros modelos.\n",
    "- El Random Forest muestra un rendimiento sólido. Tiene un AUC-ROC más alto que la regresión logística y un recall similar al de la regresión logística. Sin embargo, su precisión (0.8958) es un poco más alta, lo que indica que el modelo tiene una ligera tendencia a clasificar correctamente las instancias negativas.\n",
    "- El XGBClassifier es el modelo con el mejor desempeño, con el AUC-ROC más alto (0.8945) y el recall más alto (0.8581). Además, la precisión también es excelente, lo que indica que este modelo tiene un buen equilibrio entre capturar casos positivos y negativos."
   ]
  },
  {
   "cell_type": "markdown",
   "id": "a456c127",
   "metadata": {},
   "source": [
    "### Recomendaciones para mejorar:\n",
    "Evaluación de métricas adicionales: Aunque el AUC-ROC es una excelente métrica, también podrías observar otras métricas de evaluación, como el F1-score, que es útil cuando hay un desbalance de clases."
   ]
  },
  {
   "cell_type": "code",
   "execution_count": 33,
   "id": "e25ac68e",
   "metadata": {},
   "outputs": [
    {
     "name": "stdout",
     "output_type": "stream",
     "text": [
      "F1-score para LogisticRegression: 0.8505\n",
      "F1-score para RandomForestClassifier: 0.8495\n",
      "F1-score para XGBClassifier: 0.8926\n"
     ]
    }
   ],
   "source": [
    "# F1-score:\n",
    "from sklearn.metrics import f1_score\n",
    "\n",
    "f1_log_reg = f1_score(y_test, y_pred_log_reg)\n",
    "f1_rf_clf = f1_score(y_test, y_pred_rf_clf)\n",
    "f1_xgb_clf = f1_score(y_test, y_pred_xgb_clf)\n",
    "\n",
    "print(f\"F1-score para LogisticRegression: {f1_log_reg:.4f}\")\n",
    "print(f\"F1-score para RandomForestClassifier: {f1_rf_clf:.4f}\")\n",
    "print(f\"F1-score para XGBClassifier: {f1_xgb_clf:.4f}\")"
   ]
  },
  {
   "cell_type": "markdown",
   "id": "c36f3bb8",
   "metadata": {},
   "source": [
    "- El F1-score muestra un buen equilibrio entre precisión y recall. Aquí, el XGBClassifier sigue siendo el mejor, pero el RandomForestClassifier también ofrece buenos resultados, y Logistic Regression sigue siendo bastante competitivo."
   ]
  },
  {
   "cell_type": "markdown",
   "id": "9b5718a8",
   "metadata": {},
   "source": [
    "### Ensemble Learning: Probar combinar los tres modelos\n",
    "Usando VotingClassifier para ver si mejora el rendimiento general del sistema. Esto se logra combinando múltiples modelos para reducir el sesgo y la varianza.\n"
   ]
  },
  {
   "cell_type": "code",
   "execution_count": 34,
   "id": "bd1f48e2",
   "metadata": {},
   "outputs": [
    {
     "name": "stdout",
     "output_type": "stream",
     "text": [
      "AUC-ROC para VotingClassifier: 0.8709\n"
     ]
    }
   ],
   "source": [
    "# VotingClassifier:\n",
    "from sklearn.ensemble import VotingClassifier\n",
    "\n",
    "voting_clf = VotingClassifier(estimators=[('lr', log_reg), ('rf', rf_clf), ('xgb', xgb_clf)], voting='hard')\n",
    "voting_clf.fit(X_train, y_train)\n",
    "y_pred_voting = voting_clf.predict(X_test)\n",
    "\n",
    "auc_voting = roc_auc_score(y_test, y_pred_voting)\n",
    "print(f\"AUC-ROC para VotingClassifier: {auc_voting:.4f}\")\n"
   ]
  },
  {
   "cell_type": "markdown",
   "id": "3b9bef07",
   "metadata": {},
   "source": [
    "- AUC-ROC:\n",
    "\n",
    "VotingClassifier: 0.8743\n",
    "El VotingClassifier combina los tres modelos y da un AUC-ROC de 0.8743, lo cual es sólido, aunque sigue siendo un poco más bajo que el XGBClassifier (0.8945). Esto puede deberse a que el ensemble de modelos no siempre mejora el rendimiento en todos los casos, especialmente cuando los modelos base ya tienen un buen desempeño por separado."
   ]
  },
  {
   "cell_type": "markdown",
   "id": "f4669462",
   "metadata": {},
   "source": [
    "### Optimizar aún más el rendimiento:\n",
    "\n",
    "1. Ajuste de pesos en VotingClassifier\n",
    "El VotingClassifier (soft) pondera las predicciones de los modelos, pero actualmente todos tienen el mismo peso. Podrías ajustar estos pesos para favorecer a los modelos más fuertes, como XGBClassifier:"
   ]
  },
  {
   "cell_type": "code",
   "execution_count": 35,
   "id": "a7fbe5e9",
   "metadata": {},
   "outputs": [
    {
     "name": "stdout",
     "output_type": "stream",
     "text": [
      "AUC-ROC para VotingClassifier (ponderado): 0.8909\n"
     ]
    }
   ],
   "source": [
    "voting_clf_weighted = VotingClassifier(\n",
    "    estimators=[('lr', log_reg), ('rf', rf_clf), ('xgb', xgb_clf)],\n",
    "    voting='soft',\n",
    "    weights=[1, 1, 2]  # Le damos más peso a XGB\n",
    ")\n",
    "\n",
    "voting_clf_weighted.fit(X_train, y_train)\n",
    "y_pred_voting_weighted = voting_clf_weighted.predict(X_test)\n",
    "\n",
    "auc_voting_weighted = roc_auc_score(y_test, y_pred_voting_weighted)\n",
    "print(f\"AUC-ROC para VotingClassifier (ponderado): {auc_voting_weighted:.4f}\")\n"
   ]
  },
  {
   "cell_type": "markdown",
   "id": "3dc1a324",
   "metadata": {},
   "source": [
    "##  Conclusiones del Proyecto "
   ]
  },
  {
   "cell_type": "markdown",
   "id": "77b1142d",
   "metadata": {},
   "source": [
    "### **Factores de influencia en la contratación**:\n",
    "\n",
    "   - La variable con mayor impacto en la contratación de servicios es el canal de contacto, aunque su correlación sigue siendo baja. Esto sugiere que algunos canales son más efectivos que otros en la conversión de clientes.\n",
    "   \n",
    "- Variables como la comuna, región, género y fecha de registro tienen una influencia casi nula en la contratación.\n",
    "- El tipo de servicio solicitado (destino) muestra una leve correlación negativa, lo que podría indicar que ciertos servicios tienen menor probabilidad de ser contratados."
   ]
  },
  {
   "cell_type": "markdown",
   "id": "0700eb07",
   "metadata": {},
   "source": [
    "### **Desempeño de los Modelos**:\n",
    "   - La variable con mayor impacto en la contratación de servicios es el canal de contacto, aunque su correlación sigue siendo baja. Esto sugiere que algunos canales son más efectivos que otros en la conversión de clientes.\n",
    "- Variables como la comuna, región, género y fecha de registro tienen una influencia casi nula en la contratación.\n",
    "- El tipo de servicio solicitado (destino) muestra una leve correlación negativa, lo que podría indicar que ciertos servicios tienen menor probabilidad de ser contratados.\n",
    "\n",
    "- Se probaron distintos algoritmos de clasificación, incluyendo Árbol de Decisión, Regresión Logística, Random Forest y XGBoost.\n",
    "\n",
    "### **XGBoost**:\n",
    "\n",
    "- XGBoost resultó ser el modelo con mejor desempeño, alcanzando un AUC-ROC de 0.8945, lo que indica una alta capacidad de predicción.\n",
    "- El Random Forest también mostró buenos resultados con un AUC-ROC competitivo (0.8511), pero con menor precisión en la clase minoritaria (clientes que contratan el servicio).\n",
    "- La Regresión Logística tuvo un desempeño más bajo comparado con los modelos de ensamble, aunque sigue siendo una opción interpretable."
   ]
  },
  {
   "cell_type": "markdown",
   "id": "15228957",
   "metadata": {},
   "source": [
    "### **Ensemble Learning y Ajustes de Modelos**:\n",
    "\n",
    "- Se implementó un VotingClassifier combinando los tres modelos principales (Regresión Logística, Random Forest y XGBoost). Esto mejoró la estabilidad de la predicción, obteniendo un AUC-ROC de 0.8709.\n",
    "- Ajustando los pesos dentro del VotingClassifier para favorecer a XGBoost, se logró mejorar el rendimiento hasta un AUC-ROC de 0.8909.\n",
    "\n",
    "### **Recomendaciones para Mejorar el Modelo**:\n",
    "\n",
    "- Recolección de Datos Adicionales: Dado que las variables actuales tienen una correlación baja con la contratación, sería útil incorporar nuevas fuentes de datos, como historial de interacciones del cliente o nivel de interés en los servicios.\n",
    "- Optimización de Modelos: Se pueden explorar técnicas avanzadas de ajuste de hiperparámetros y feature engineering para mejorar aún más el rendimiento del modelo.\n",
    "- Segmentación de Clientes: Se recomienda analizar subgrupos de clientes para entender patrones específicos y diseñar estrategias de captación más efectivas."
   ]
  },
  {
   "cell_type": "markdown",
   "id": "225ce519",
   "metadata": {},
   "source": [
    "## Impacto de las Conclusiones en el Proyecto\n",
    "- ✔ Se identificaron oportunidades para mejorar la captación mediante una mejor gestión de los canales de contacto.\n",
    "- ✔ Se encontró que la ubicación del cliente no es un factor clave, lo que permite estrategias de captación más flexibles.\n",
    "- ✔ Se recomienda mejorar la recolección de datos (edad, historial de interacciones, nivel de interés en servicios) para mejorar el modelo en el futuro."
   ]
  },
  {
   "cell_type": "markdown",
   "id": "f570df78",
   "metadata": {},
   "source": [
    "### Prueba de Modelos Predictivos\n",
    "\n",
    "1. **Se entrenaron varios modelos de machine learning**: Árbol de Decisión, Regresión Logística, Random Forest y XGBoost.\n",
    "2. **XGBoost**: resultó ser el mejor modelo con un AUC-ROC de 0.8945, mostrando alta capacidad de predicción.\n",
    "3. **Se usaron técnicas de ajuste de hiperparámetros y validación cruzada**: para mejorar la precisión."
   ]
  },
  {
   "cell_type": "markdown",
   "id": "923785bb",
   "metadata": {},
   "source": [
    "### Respuesta a las Preguntas de Hipótesis\n",
    "1.**¿Qué tipo de clientes están más interesados en contratar un servicio?**\n",
    "- No se encontró una relación fuerte con variables demográficas (edad, género, comuna).\n",
    "- Sin embargo, la variable canal de contacto mostró un impacto significativo en la conversión.\n",
    "2.**¿Dónde se encuentran?**\n",
    "- La ubicación (comuna y región) no fue un factor relevante en la contratación.\n",
    "3.**¿Qué servicios contratan?**\n",
    "- El tipo de servicio solicitado (‘destino’) tuvo una ligera correlación negativa, indicando que ciertos servicios son menos contratados.\n",
    "4.**¿Cómo llegan?**\n",
    "- El canal de contacto (Google, Embajador, Teléfono, etc.) fue la variable con más impacto en la contratación.\n",
    "- Algunos canales tienen más éxito que otros en atraer clientes que terminan contratando."
   ]
  },
  {
   "cell_type": "code",
   "execution_count": null,
   "id": "473aacfd",
   "metadata": {},
   "outputs": [],
   "source": []
  }
 ],
 "metadata": {
  "ExecuteTimeLog": [
   {
    "duration": 3,
    "start_time": "2024-10-20T10:27:09.177Z"
   },
   {
    "duration": 2,
    "start_time": "2024-10-20T10:42:31.379Z"
   },
   {
    "duration": 3,
    "start_time": "2024-10-20T14:26:58.422Z"
   },
   {
    "duration": 2,
    "start_time": "2024-10-20T14:30:44.648Z"
   },
   {
    "duration": 10,
    "start_time": "2024-10-20T14:34:34.782Z"
   },
   {
    "duration": 10,
    "start_time": "2024-10-21T09:36:33.660Z"
   },
   {
    "duration": 3,
    "start_time": "2024-10-21T09:38:09.626Z"
   },
   {
    "duration": 2,
    "start_time": "2024-10-21T09:41:20.851Z"
   },
   {
    "duration": 4,
    "start_time": "2024-10-21T09:46:19.786Z"
   },
   {
    "duration": 2625,
    "start_time": "2024-10-21T16:51:35.008Z"
   },
   {
    "duration": 597,
    "start_time": "2024-10-21T16:51:37.635Z"
   },
   {
    "duration": 192,
    "start_time": "2024-10-21T16:52:10.973Z"
   },
   {
    "duration": 32,
    "start_time": "2024-10-21T16:53:30.200Z"
   },
   {
    "duration": 4,
    "start_time": "2024-10-21T16:54:08.186Z"
   },
   {
    "duration": 8,
    "start_time": "2024-10-21T19:37:43.133Z"
   },
   {
    "duration": 156,
    "start_time": "2024-10-21T19:44:39.396Z"
   },
   {
    "duration": 3,
    "start_time": "2024-10-21T19:44:52.796Z"
   },
   {
    "duration": 2,
    "start_time": "2024-10-21T19:44:52.801Z"
   },
   {
    "duration": 3,
    "start_time": "2024-10-21T19:44:52.884Z"
   },
   {
    "duration": 2533,
    "start_time": "2024-10-21T19:44:52.889Z"
   },
   {
    "duration": 148,
    "start_time": "2024-10-21T19:44:55.424Z"
   },
   {
    "duration": 36,
    "start_time": "2024-10-21T19:44:55.573Z"
   },
   {
    "duration": 3,
    "start_time": "2024-10-21T19:44:55.612Z"
   },
   {
    "duration": 5,
    "start_time": "2024-10-21T19:45:50.165Z"
   },
   {
    "duration": 103,
    "start_time": "2024-10-21T19:45:52.973Z"
   },
   {
    "duration": 3,
    "start_time": "2024-10-21T19:45:57.414Z"
   },
   {
    "duration": 3,
    "start_time": "2024-10-21T19:46:15.609Z"
   },
   {
    "duration": 2,
    "start_time": "2024-10-21T19:46:15.615Z"
   },
   {
    "duration": 2,
    "start_time": "2024-10-21T19:46:15.619Z"
   },
   {
    "duration": 917,
    "start_time": "2024-10-21T19:46:15.624Z"
   },
   {
    "duration": 96,
    "start_time": "2024-10-21T19:46:16.543Z"
   },
   {
    "duration": 32,
    "start_time": "2024-10-21T19:46:16.640Z"
   },
   {
    "duration": 3,
    "start_time": "2024-10-21T19:46:16.675Z"
   },
   {
    "duration": 3,
    "start_time": "2024-10-21T19:46:16.680Z"
   },
   {
    "duration": 4,
    "start_time": "2024-10-21T20:05:09.955Z"
   },
   {
    "duration": 3,
    "start_time": "2024-10-21T20:05:29.441Z"
   },
   {
    "duration": 4,
    "start_time": "2024-10-21T20:36:40.063Z"
   },
   {
    "duration": 274,
    "start_time": "2025-01-12T17:57:55.943Z"
   },
   {
    "duration": 3,
    "start_time": "2025-01-12T18:01:46.508Z"
   },
   {
    "duration": 3,
    "start_time": "2025-01-12T18:02:36.920Z"
   },
   {
    "duration": 7,
    "start_time": "2025-01-12T18:03:04.065Z"
   },
   {
    "duration": 8,
    "start_time": "2025-01-12T18:03:27.411Z"
   },
   {
    "duration": 161,
    "start_time": "2025-01-14T16:02:53.209Z"
   },
   {
    "duration": 21,
    "start_time": "2025-01-14T16:03:32.481Z"
   },
   {
    "duration": 2852,
    "start_time": "2025-01-14T16:03:41.181Z"
   },
   {
    "duration": 9,
    "start_time": "2025-01-14T16:03:44.035Z"
   },
   {
    "duration": 7,
    "start_time": "2025-01-14T16:03:44.046Z"
   },
   {
    "duration": 421,
    "start_time": "2025-01-14T16:03:44.055Z"
   },
   {
    "duration": 0,
    "start_time": "2025-01-14T16:03:44.479Z"
   },
   {
    "duration": 23,
    "start_time": "2025-01-14T16:03:54.344Z"
   },
   {
    "duration": 18,
    "start_time": "2025-01-14T16:04:02.277Z"
   },
   {
    "duration": 7,
    "start_time": "2025-01-14T16:05:30.783Z"
   },
   {
    "duration": 6,
    "start_time": "2025-01-14T16:05:39.532Z"
   },
   {
    "duration": 536,
    "start_time": "2025-01-14T16:08:33.791Z"
   },
   {
    "duration": 12,
    "start_time": "2025-01-14T16:09:40.625Z"
   },
   {
    "duration": 13,
    "start_time": "2025-01-14T16:09:58.010Z"
   },
   {
    "duration": 39,
    "start_time": "2025-01-14T16:10:08.591Z"
   },
   {
    "duration": 4,
    "start_time": "2025-01-14T16:11:25.472Z"
   },
   {
    "duration": 187,
    "start_time": "2025-01-14T16:11:46.174Z"
   },
   {
    "duration": 50,
    "start_time": "2025-01-14T16:12:04.241Z"
   },
   {
    "duration": 48,
    "start_time": "2025-01-14T16:12:08.935Z"
   },
   {
    "duration": 43,
    "start_time": "2025-01-14T16:12:38.413Z"
   },
   {
    "duration": 19,
    "start_time": "2025-01-14T16:14:54.153Z"
   },
   {
    "duration": 8,
    "start_time": "2025-01-14T16:15:03.219Z"
   },
   {
    "duration": 9,
    "start_time": "2025-01-14T16:15:05.839Z"
   },
   {
    "duration": 37,
    "start_time": "2025-01-14T16:15:32.998Z"
   },
   {
    "duration": 33,
    "start_time": "2025-01-14T16:15:50.035Z"
   },
   {
    "duration": 142,
    "start_time": "2025-01-14T16:18:08.041Z"
   },
   {
    "duration": 427,
    "start_time": "2025-01-14T16:18:31.345Z"
   },
   {
    "duration": 1572,
    "start_time": "2025-01-14T16:18:43.136Z"
   },
   {
    "duration": 67,
    "start_time": "2025-01-14T16:21:31.035Z"
   },
   {
    "duration": 436,
    "start_time": "2025-01-14T16:21:45.752Z"
   },
   {
    "duration": 27,
    "start_time": "2025-01-14T16:23:13.347Z"
   },
   {
    "duration": 33,
    "start_time": "2025-01-14T16:23:23.453Z"
   },
   {
    "duration": 10,
    "start_time": "2025-01-14T16:24:40.820Z"
   },
   {
    "duration": 31,
    "start_time": "2025-01-14T16:24:57.769Z"
   },
   {
    "duration": 8,
    "start_time": "2025-01-14T16:26:55.845Z"
   },
   {
    "duration": 21,
    "start_time": "2025-01-14T16:27:48.083Z"
   },
   {
    "duration": 14,
    "start_time": "2025-01-14T16:28:53.011Z"
   },
   {
    "duration": 26,
    "start_time": "2025-01-14T16:30:50.834Z"
   },
   {
    "duration": 34,
    "start_time": "2025-01-14T16:31:08.978Z"
   },
   {
    "duration": 23,
    "start_time": "2025-01-14T16:32:08.506Z"
   },
   {
    "duration": 12,
    "start_time": "2025-01-14T16:32:38.771Z"
   },
   {
    "duration": 14,
    "start_time": "2025-01-14T16:32:39.273Z"
   },
   {
    "duration": 29,
    "start_time": "2025-01-14T16:32:40.355Z"
   },
   {
    "duration": 10,
    "start_time": "2025-01-14T16:32:54.250Z"
   },
   {
    "duration": 18,
    "start_time": "2025-01-14T16:35:24.725Z"
   },
   {
    "duration": 32,
    "start_time": "2025-01-14T16:35:25.582Z"
   },
   {
    "duration": 3,
    "start_time": "2025-01-14T16:35:40.775Z"
   },
   {
    "duration": 40,
    "start_time": "2025-01-14T16:35:42.524Z"
   },
   {
    "duration": 21,
    "start_time": "2025-01-14T16:36:00.938Z"
   },
   {
    "duration": 38,
    "start_time": "2025-01-14T16:36:02.193Z"
   },
   {
    "duration": 7,
    "start_time": "2025-01-14T16:37:07.217Z"
   },
   {
    "duration": 40,
    "start_time": "2025-01-14T16:37:08.692Z"
   },
   {
    "duration": 15,
    "start_time": "2025-01-14T16:37:45.920Z"
   },
   {
    "duration": 4,
    "start_time": "2025-01-14T16:37:50.555Z"
   },
   {
    "duration": 6,
    "start_time": "2025-01-14T16:37:59.793Z"
   },
   {
    "duration": 1113,
    "start_time": "2025-01-14T16:39:28.764Z"
   },
   {
    "duration": 9,
    "start_time": "2025-01-14T16:39:29.879Z"
   },
   {
    "duration": 21,
    "start_time": "2025-01-14T16:39:29.890Z"
   },
   {
    "duration": 13,
    "start_time": "2025-01-14T16:39:29.913Z"
   },
   {
    "duration": 28,
    "start_time": "2025-01-14T16:39:29.927Z"
   },
   {
    "duration": 5,
    "start_time": "2025-01-14T16:39:29.957Z"
   },
   {
    "duration": 1569,
    "start_time": "2025-01-14T16:39:29.964Z"
   },
   {
    "duration": 4,
    "start_time": "2025-01-14T16:39:31.535Z"
   },
   {
    "duration": 228,
    "start_time": "2025-01-14T16:39:31.541Z"
   },
   {
    "duration": 283,
    "start_time": "2025-01-14T16:39:31.772Z"
   },
   {
    "duration": 0,
    "start_time": "2025-01-14T16:39:32.057Z"
   },
   {
    "duration": 0,
    "start_time": "2025-01-14T16:39:32.058Z"
   },
   {
    "duration": 0,
    "start_time": "2025-01-14T16:39:32.059Z"
   },
   {
    "duration": 0,
    "start_time": "2025-01-14T16:39:32.060Z"
   },
   {
    "duration": 0,
    "start_time": "2025-01-14T16:39:32.061Z"
   },
   {
    "duration": 176,
    "start_time": "2025-01-14T16:40:01.124Z"
   },
   {
    "duration": 24,
    "start_time": "2025-01-14T16:41:08.817Z"
   },
   {
    "duration": 814,
    "start_time": "2025-01-14T16:41:21.975Z"
   },
   {
    "duration": 3011,
    "start_time": "2025-01-15T12:12:01.194Z"
   },
   {
    "duration": 26,
    "start_time": "2025-01-15T12:12:42.237Z"
   },
   {
    "duration": 1010,
    "start_time": "2025-01-15T12:13:03.735Z"
   },
   {
    "duration": 8,
    "start_time": "2025-01-15T12:13:04.747Z"
   },
   {
    "duration": 10,
    "start_time": "2025-01-15T12:13:04.756Z"
   },
   {
    "duration": 9,
    "start_time": "2025-01-15T12:13:04.770Z"
   },
   {
    "duration": 42,
    "start_time": "2025-01-15T12:13:04.781Z"
   },
   {
    "duration": 5,
    "start_time": "2025-01-15T12:13:04.824Z"
   },
   {
    "duration": 1420,
    "start_time": "2025-01-15T12:13:04.831Z"
   },
   {
    "duration": 4,
    "start_time": "2025-01-15T12:13:06.254Z"
   },
   {
    "duration": 181,
    "start_time": "2025-01-15T12:13:06.260Z"
   },
   {
    "duration": 762,
    "start_time": "2025-01-15T12:13:06.443Z"
   },
   {
    "duration": 10,
    "start_time": "2025-01-15T12:13:32.970Z"
   },
   {
    "duration": 66,
    "start_time": "2025-01-15T12:13:57.279Z"
   },
   {
    "duration": 44,
    "start_time": "2025-01-15T12:14:15.135Z"
   },
   {
    "duration": 40,
    "start_time": "2025-01-15T12:14:54.467Z"
   },
   {
    "duration": 58,
    "start_time": "2025-01-15T12:15:53.315Z"
   },
   {
    "duration": 43,
    "start_time": "2025-01-15T12:16:12.242Z"
   },
   {
    "duration": 58,
    "start_time": "2025-01-15T12:17:43.406Z"
   },
   {
    "duration": 43,
    "start_time": "2025-01-15T12:18:00.935Z"
   },
   {
    "duration": 59,
    "start_time": "2025-01-15T12:19:42.577Z"
   },
   {
    "duration": 1241,
    "start_time": "2025-01-15T12:20:02.218Z"
   },
   {
    "duration": 12,
    "start_time": "2025-01-15T12:20:28.938Z"
   },
   {
    "duration": 6,
    "start_time": "2025-01-15T12:20:28.952Z"
   },
   {
    "duration": 1245,
    "start_time": "2025-01-15T12:20:53.415Z"
   },
   {
    "duration": 1183,
    "start_time": "2025-01-15T12:21:12.684Z"
   },
   {
    "duration": 12,
    "start_time": "2025-01-15T12:21:22.288Z"
   },
   {
    "duration": 11,
    "start_time": "2025-01-15T12:21:28.049Z"
   },
   {
    "duration": 3,
    "start_time": "2025-01-15T12:26:11.840Z"
   },
   {
    "duration": 1032,
    "start_time": "2025-01-15T12:26:17.156Z"
   },
   {
    "duration": 8,
    "start_time": "2025-01-15T12:26:18.190Z"
   },
   {
    "duration": 15,
    "start_time": "2025-01-15T12:26:18.200Z"
   },
   {
    "duration": 10,
    "start_time": "2025-01-15T12:26:18.217Z"
   },
   {
    "duration": 22,
    "start_time": "2025-01-15T12:26:18.230Z"
   },
   {
    "duration": 6,
    "start_time": "2025-01-15T12:26:18.253Z"
   },
   {
    "duration": 1495,
    "start_time": "2025-01-15T12:26:18.261Z"
   },
   {
    "duration": 8,
    "start_time": "2025-01-15T12:26:19.759Z"
   },
   {
    "duration": 188,
    "start_time": "2025-01-15T12:26:19.769Z"
   },
   {
    "duration": 10,
    "start_time": "2025-01-15T12:26:19.958Z"
   },
   {
    "duration": 10,
    "start_time": "2025-01-15T12:26:19.970Z"
   },
   {
    "duration": 1298,
    "start_time": "2025-01-15T12:26:19.981Z"
   },
   {
    "duration": 10,
    "start_time": "2025-03-16T11:55:41.741Z"
   },
   {
    "duration": 154,
    "start_time": "2025-03-16T12:12:00.162Z"
   },
   {
    "duration": 13,
    "start_time": "2025-03-16T12:12:03.173Z"
   },
   {
    "duration": 2837,
    "start_time": "2025-03-16T12:12:14.633Z"
   },
   {
    "duration": 400,
    "start_time": "2025-03-16T12:12:17.473Z"
   },
   {
    "duration": 84,
    "start_time": "2025-03-16T12:12:18.031Z"
   },
   {
    "duration": 5,
    "start_time": "2025-03-16T12:13:51.069Z"
   },
   {
    "duration": 12,
    "start_time": "2025-03-16T12:13:53.926Z"
   },
   {
    "duration": 61,
    "start_time": "2025-03-16T12:14:54.948Z"
   },
   {
    "duration": 58,
    "start_time": "2025-03-16T12:15:10.019Z"
   },
   {
    "duration": 13,
    "start_time": "2025-03-16T12:15:11.303Z"
   },
   {
    "duration": 58,
    "start_time": "2025-03-16T12:15:56.642Z"
   },
   {
    "duration": 16,
    "start_time": "2025-03-16T12:17:00.841Z"
   },
   {
    "duration": 15,
    "start_time": "2025-03-16T12:17:19.430Z"
   },
   {
    "duration": 4,
    "start_time": "2025-03-16T12:20:38.897Z"
   },
   {
    "duration": 5,
    "start_time": "2025-03-16T12:21:34.272Z"
   },
   {
    "duration": 60,
    "start_time": "2025-03-16T12:22:00.445Z"
   },
   {
    "duration": 67,
    "start_time": "2025-03-16T12:23:30.546Z"
   },
   {
    "duration": 61,
    "start_time": "2025-03-16T12:24:19.573Z"
   },
   {
    "duration": 60,
    "start_time": "2025-03-16T12:24:41.655Z"
   },
   {
    "duration": 60,
    "start_time": "2025-03-16T12:26:19.229Z"
   },
   {
    "duration": 59,
    "start_time": "2025-03-16T12:27:10.811Z"
   },
   {
    "duration": 66,
    "start_time": "2025-03-16T12:27:19.314Z"
   },
   {
    "duration": 17,
    "start_time": "2025-03-16T12:27:47.958Z"
   },
   {
    "duration": 60,
    "start_time": "2025-03-16T12:31:51.080Z"
   },
   {
    "duration": 62,
    "start_time": "2025-03-16T12:32:19.324Z"
   },
   {
    "duration": 62,
    "start_time": "2025-03-16T12:34:55.833Z"
   },
   {
    "duration": 61,
    "start_time": "2025-03-16T12:42:59.112Z"
   },
   {
    "duration": 60,
    "start_time": "2025-03-16T12:43:02.642Z"
   },
   {
    "duration": 1025,
    "start_time": "2025-03-16T12:44:05.175Z"
   },
   {
    "duration": 8,
    "start_time": "2025-03-16T12:44:06.386Z"
   },
   {
    "duration": 229,
    "start_time": "2025-03-16T12:44:08.365Z"
   },
   {
    "duration": 12,
    "start_time": "2025-03-16T12:44:18.254Z"
   },
   {
    "duration": 7,
    "start_time": "2025-03-16T12:45:28.761Z"
   },
   {
    "duration": 9,
    "start_time": "2025-03-16T12:45:46.804Z"
   },
   {
    "duration": 9,
    "start_time": "2025-03-16T12:47:14.014Z"
   },
   {
    "duration": 10,
    "start_time": "2025-03-16T12:50:46.349Z"
   },
   {
    "duration": 4,
    "start_time": "2025-03-16T12:50:47.424Z"
   },
   {
    "duration": 9,
    "start_time": "2025-03-16T12:50:56.734Z"
   },
   {
    "duration": 4,
    "start_time": "2025-03-16T12:51:13.595Z"
   },
   {
    "duration": 10,
    "start_time": "2025-03-16T12:51:14.664Z"
   },
   {
    "duration": 4,
    "start_time": "2025-03-16T12:51:49.567Z"
   },
   {
    "duration": 8,
    "start_time": "2025-03-16T12:51:51.623Z"
   },
   {
    "duration": 3,
    "start_time": "2025-03-16T12:52:03.569Z"
   },
   {
    "duration": 9,
    "start_time": "2025-03-16T12:52:04.870Z"
   },
   {
    "duration": 4,
    "start_time": "2025-03-16T12:52:14.151Z"
   },
   {
    "duration": 9,
    "start_time": "2025-03-16T12:52:15.461Z"
   },
   {
    "duration": 5,
    "start_time": "2025-03-16T12:52:38.322Z"
   },
   {
    "duration": 10,
    "start_time": "2025-03-16T12:52:38.860Z"
   },
   {
    "duration": 4,
    "start_time": "2025-03-16T12:53:21.814Z"
   },
   {
    "duration": 9,
    "start_time": "2025-03-16T12:53:22.568Z"
   },
   {
    "duration": 4,
    "start_time": "2025-03-16T12:53:43.770Z"
   },
   {
    "duration": 4,
    "start_time": "2025-03-16T12:53:52.676Z"
   },
   {
    "duration": 4,
    "start_time": "2025-03-16T12:53:53.265Z"
   },
   {
    "duration": 4,
    "start_time": "2025-03-16T12:54:08.841Z"
   },
   {
    "duration": 4,
    "start_time": "2025-03-16T12:54:10.277Z"
   },
   {
    "duration": 9,
    "start_time": "2025-03-16T12:54:11.953Z"
   },
   {
    "duration": 1081,
    "start_time": "2025-03-16T12:54:20.525Z"
   },
   {
    "duration": 8,
    "start_time": "2025-03-16T12:54:21.609Z"
   },
   {
    "duration": 11,
    "start_time": "2025-03-16T12:54:21.618Z"
   },
   {
    "duration": 9,
    "start_time": "2025-03-16T12:54:21.630Z"
   },
   {
    "duration": 4,
    "start_time": "2025-03-16T12:54:21.642Z"
   },
   {
    "duration": 4,
    "start_time": "2025-03-16T12:54:21.648Z"
   },
   {
    "duration": 8,
    "start_time": "2025-03-16T12:54:21.653Z"
   },
   {
    "duration": 2,
    "start_time": "2025-03-16T12:54:21.662Z"
   },
   {
    "duration": 46,
    "start_time": "2025-03-16T12:54:21.666Z"
   },
   {
    "duration": 9,
    "start_time": "2025-03-16T12:54:21.714Z"
   },
   {
    "duration": 8,
    "start_time": "2025-03-16T12:54:21.724Z"
   },
   {
    "duration": 21,
    "start_time": "2025-03-16T12:54:21.734Z"
   },
   {
    "duration": 5,
    "start_time": "2025-03-16T12:54:21.757Z"
   },
   {
    "duration": 1534,
    "start_time": "2025-03-16T12:54:21.765Z"
   },
   {
    "duration": 4,
    "start_time": "2025-03-16T12:54:23.309Z"
   },
   {
    "duration": 184,
    "start_time": "2025-03-16T12:54:23.315Z"
   },
   {
    "duration": 15,
    "start_time": "2025-03-16T12:54:23.501Z"
   },
   {
    "duration": 12,
    "start_time": "2025-03-16T12:54:23.518Z"
   },
   {
    "duration": 1303,
    "start_time": "2025-03-16T12:54:23.532Z"
   },
   {
    "duration": 1089,
    "start_time": "2025-03-16T12:58:25.520Z"
   },
   {
    "duration": 8,
    "start_time": "2025-03-16T12:58:26.611Z"
   },
   {
    "duration": 11,
    "start_time": "2025-03-16T12:58:26.621Z"
   },
   {
    "duration": 10,
    "start_time": "2025-03-16T12:58:26.634Z"
   },
   {
    "duration": 4,
    "start_time": "2025-03-16T12:58:26.646Z"
   },
   {
    "duration": 5,
    "start_time": "2025-03-16T12:58:26.651Z"
   },
   {
    "duration": 8,
    "start_time": "2025-03-16T12:58:26.658Z"
   },
   {
    "duration": 2,
    "start_time": "2025-03-16T12:58:26.668Z"
   },
   {
    "duration": 42,
    "start_time": "2025-03-16T12:58:26.672Z"
   },
   {
    "duration": 8,
    "start_time": "2025-03-16T12:58:26.717Z"
   },
   {
    "duration": 9,
    "start_time": "2025-03-16T12:58:26.727Z"
   },
   {
    "duration": 23,
    "start_time": "2025-03-16T12:58:26.737Z"
   },
   {
    "duration": 4,
    "start_time": "2025-03-16T12:58:26.762Z"
   },
   {
    "duration": 1563,
    "start_time": "2025-03-16T12:58:26.770Z"
   },
   {
    "duration": 5,
    "start_time": "2025-03-16T12:58:28.335Z"
   },
   {
    "duration": 190,
    "start_time": "2025-03-16T12:58:28.341Z"
   },
   {
    "duration": 10,
    "start_time": "2025-03-16T12:58:28.533Z"
   },
   {
    "duration": 11,
    "start_time": "2025-03-16T12:58:28.545Z"
   },
   {
    "duration": 1380,
    "start_time": "2025-03-16T12:58:28.558Z"
   },
   {
    "duration": 7,
    "start_time": "2025-03-16T12:59:10.419Z"
   },
   {
    "duration": 9,
    "start_time": "2025-03-16T12:59:11.680Z"
   },
   {
    "duration": 4,
    "start_time": "2025-03-16T13:00:05.612Z"
   },
   {
    "duration": 5,
    "start_time": "2025-03-16T13:00:06.421Z"
   },
   {
    "duration": 9,
    "start_time": "2025-03-16T13:00:23.687Z"
   },
   {
    "duration": 23,
    "start_time": "2025-03-16T13:01:52.624Z"
   },
   {
    "duration": 6,
    "start_time": "2025-03-16T13:07:12.721Z"
   },
   {
    "duration": 5,
    "start_time": "2025-03-16T13:10:55.326Z"
   },
   {
    "duration": 5,
    "start_time": "2025-03-16T13:15:17.882Z"
   },
   {
    "duration": 4,
    "start_time": "2025-03-16T13:17:06.005Z"
   },
   {
    "duration": 5,
    "start_time": "2025-03-16T13:18:32.483Z"
   },
   {
    "duration": 5,
    "start_time": "2025-03-16T13:18:41.697Z"
   },
   {
    "duration": 5,
    "start_time": "2025-03-16T13:18:53.990Z"
   },
   {
    "duration": 5,
    "start_time": "2025-03-16T13:18:58.640Z"
   },
   {
    "duration": 5,
    "start_time": "2025-03-16T13:19:04.025Z"
   },
   {
    "duration": 5,
    "start_time": "2025-03-16T13:19:05.464Z"
   },
   {
    "duration": 2,
    "start_time": "2025-03-16T13:19:07.041Z"
   },
   {
    "duration": 5,
    "start_time": "2025-03-16T13:19:07.499Z"
   },
   {
    "duration": 6,
    "start_time": "2025-03-16T13:19:08.888Z"
   },
   {
    "duration": 1017,
    "start_time": "2025-03-16T13:19:29.670Z"
   },
   {
    "duration": 9,
    "start_time": "2025-03-16T13:19:30.690Z"
   },
   {
    "duration": 16,
    "start_time": "2025-03-16T13:19:30.700Z"
   },
   {
    "duration": 9,
    "start_time": "2025-03-16T13:19:30.718Z"
   },
   {
    "duration": 4,
    "start_time": "2025-03-16T13:19:30.728Z"
   },
   {
    "duration": 4,
    "start_time": "2025-03-16T13:19:30.733Z"
   },
   {
    "duration": 20,
    "start_time": "2025-03-16T13:19:30.739Z"
   },
   {
    "duration": 3,
    "start_time": "2025-03-16T13:19:30.760Z"
   },
   {
    "duration": 4,
    "start_time": "2025-03-16T13:19:30.764Z"
   },
   {
    "duration": 39,
    "start_time": "2025-03-16T13:19:30.771Z"
   },
   {
    "duration": 3,
    "start_time": "2025-03-16T13:19:30.812Z"
   },
   {
    "duration": 5,
    "start_time": "2025-03-16T13:19:30.816Z"
   },
   {
    "duration": 5,
    "start_time": "2025-03-16T13:19:30.823Z"
   },
   {
    "duration": 250,
    "start_time": "2025-03-16T13:19:30.830Z"
   },
   {
    "duration": 0,
    "start_time": "2025-03-16T13:19:31.082Z"
   },
   {
    "duration": 0,
    "start_time": "2025-03-16T13:19:31.083Z"
   },
   {
    "duration": 0,
    "start_time": "2025-03-16T13:19:31.084Z"
   },
   {
    "duration": 1,
    "start_time": "2025-03-16T13:19:31.085Z"
   },
   {
    "duration": 0,
    "start_time": "2025-03-16T13:19:31.087Z"
   },
   {
    "duration": 0,
    "start_time": "2025-03-16T13:19:31.087Z"
   },
   {
    "duration": 3,
    "start_time": "2025-03-16T13:22:53.864Z"
   },
   {
    "duration": 3,
    "start_time": "2025-03-16T13:22:57.222Z"
   },
   {
    "duration": 8,
    "start_time": "2025-03-16T13:29:09.662Z"
   },
   {
    "duration": 8,
    "start_time": "2025-03-16T13:33:15.173Z"
   },
   {
    "duration": 32,
    "start_time": "2025-03-16T13:34:52.667Z"
   },
   {
    "duration": 10,
    "start_time": "2025-03-16T13:35:43.253Z"
   },
   {
    "duration": 965,
    "start_time": "2025-03-16T13:36:20.502Z"
   },
   {
    "duration": 19,
    "start_time": "2025-03-16T14:28:33.278Z"
   },
   {
    "duration": 6311,
    "start_time": "2025-03-16T16:12:58.198Z"
   },
   {
    "duration": 6232,
    "start_time": "2025-03-16T16:15:02.200Z"
   },
   {
    "duration": 6059,
    "start_time": "2025-03-16T16:15:37.573Z"
   },
   {
    "duration": 144977,
    "start_time": "2025-03-16T16:17:42.133Z"
   },
   {
    "duration": 1324,
    "start_time": "2025-03-16T16:20:07.112Z"
   },
   {
    "duration": 7,
    "start_time": "2025-03-16T16:24:28.737Z"
   },
   {
    "duration": 1319,
    "start_time": "2025-03-16T16:26:06.110Z"
   },
   {
    "duration": 252484,
    "start_time": "2025-03-16T16:31:56.052Z"
   },
   {
    "duration": 6,
    "start_time": "2025-03-16T16:36:08.538Z"
   },
   {
    "duration": 7,
    "start_time": "2025-03-16T16:38:01.917Z"
   },
   {
    "duration": 1231,
    "start_time": "2025-03-16T16:38:34.089Z"
   },
   {
    "duration": 1253,
    "start_time": "2025-03-16T16:40:32.781Z"
   },
   {
    "duration": 1239,
    "start_time": "2025-03-16T16:41:39.378Z"
   },
   {
    "duration": 7,
    "start_time": "2025-03-16T16:43:49.880Z"
   },
   {
    "duration": 7,
    "start_time": "2025-03-16T16:44:54.114Z"
   },
   {
    "duration": 3,
    "start_time": "2025-03-16T16:45:59.398Z"
   },
   {
    "duration": 124,
    "start_time": "2025-03-16T16:47:55.578Z"
   },
   {
    "duration": 1257,
    "start_time": "2025-03-16T16:48:30.254Z"
   },
   {
    "duration": 1195,
    "start_time": "2025-03-16T16:49:50.545Z"
   },
   {
    "duration": 1171,
    "start_time": "2025-03-16T16:50:01.664Z"
   },
   {
    "duration": 1213,
    "start_time": "2025-03-16T16:52:15.926Z"
   },
   {
    "duration": 255180,
    "start_time": "2025-03-16T17:06:19.539Z"
   },
   {
    "duration": 18,
    "start_time": "2025-03-16T17:15:53.299Z"
   },
   {
    "duration": 18,
    "start_time": "2025-03-16T17:16:38.253Z"
   },
   {
    "duration": 165,
    "start_time": "2025-03-16T17:17:07.367Z"
   },
   {
    "duration": 152,
    "start_time": "2025-03-16T17:17:48.329Z"
   },
   {
    "duration": 150,
    "start_time": "2025-03-16T17:18:15.415Z"
   },
   {
    "duration": 2,
    "start_time": "2025-03-16T17:18:58.181Z"
   },
   {
    "duration": 15,
    "start_time": "2025-03-16T17:19:03.824Z"
   },
   {
    "duration": 699,
    "start_time": "2025-03-16T17:19:14.558Z"
   },
   {
    "duration": 4,
    "start_time": "2025-03-16T17:19:49.608Z"
   },
   {
    "duration": 19,
    "start_time": "2025-03-16T17:24:39.443Z"
   },
   {
    "duration": 253,
    "start_time": "2025-03-16T17:25:13.312Z"
   },
   {
    "duration": 209,
    "start_time": "2025-03-16T17:27:01.656Z"
   },
   {
    "duration": 258,
    "start_time": "2025-03-16T17:27:44.156Z"
   },
   {
    "duration": 209,
    "start_time": "2025-03-16T17:27:51.042Z"
   },
   {
    "duration": 1049,
    "start_time": "2025-03-16T17:29:04.461Z"
   },
   {
    "duration": 9,
    "start_time": "2025-03-16T17:29:05.512Z"
   },
   {
    "duration": 11,
    "start_time": "2025-03-16T17:29:05.523Z"
   },
   {
    "duration": 9,
    "start_time": "2025-03-16T17:29:05.535Z"
   },
   {
    "duration": 4,
    "start_time": "2025-03-16T17:29:05.547Z"
   },
   {
    "duration": 4,
    "start_time": "2025-03-16T17:29:05.552Z"
   },
   {
    "duration": 21,
    "start_time": "2025-03-16T17:29:05.558Z"
   },
   {
    "duration": 4,
    "start_time": "2025-03-16T17:29:05.609Z"
   },
   {
    "duration": 5,
    "start_time": "2025-03-16T17:29:05.615Z"
   },
   {
    "duration": 2,
    "start_time": "2025-03-16T17:29:05.623Z"
   },
   {
    "duration": 4,
    "start_time": "2025-03-16T17:29:05.627Z"
   },
   {
    "duration": 5,
    "start_time": "2025-03-16T17:29:05.633Z"
   },
   {
    "duration": 2,
    "start_time": "2025-03-16T17:29:05.639Z"
   },
   {
    "duration": 203,
    "start_time": "2025-03-16T17:29:05.646Z"
   },
   {
    "duration": 242,
    "start_time": "2025-03-16T17:29:05.850Z"
   },
   {
    "duration": 4,
    "start_time": "2025-03-16T17:29:06.094Z"
   },
   {
    "duration": 163,
    "start_time": "2025-03-16T17:29:06.109Z"
   },
   {
    "duration": 0,
    "start_time": "2025-03-16T17:29:06.273Z"
   },
   {
    "duration": 0,
    "start_time": "2025-03-16T17:29:06.275Z"
   },
   {
    "duration": 0,
    "start_time": "2025-03-16T17:29:06.275Z"
   },
   {
    "duration": 0,
    "start_time": "2025-03-16T17:29:06.277Z"
   },
   {
    "duration": 0,
    "start_time": "2025-03-16T17:29:06.278Z"
   },
   {
    "duration": 0,
    "start_time": "2025-03-16T17:29:06.278Z"
   },
   {
    "duration": 0,
    "start_time": "2025-03-16T17:29:06.280Z"
   },
   {
    "duration": 0,
    "start_time": "2025-03-16T17:29:06.281Z"
   },
   {
    "duration": 0,
    "start_time": "2025-03-16T17:29:06.282Z"
   },
   {
    "duration": 0,
    "start_time": "2025-03-16T17:29:06.282Z"
   },
   {
    "duration": 0,
    "start_time": "2025-03-16T17:29:06.283Z"
   },
   {
    "duration": 1093,
    "start_time": "2025-03-16T17:29:27.517Z"
   },
   {
    "duration": 7,
    "start_time": "2025-03-16T17:29:28.613Z"
   },
   {
    "duration": 12,
    "start_time": "2025-03-16T17:29:28.622Z"
   },
   {
    "duration": 8,
    "start_time": "2025-03-16T17:29:28.637Z"
   },
   {
    "duration": 3,
    "start_time": "2025-03-16T17:29:28.647Z"
   },
   {
    "duration": 4,
    "start_time": "2025-03-16T17:29:28.653Z"
   },
   {
    "duration": 53,
    "start_time": "2025-03-16T17:29:28.659Z"
   },
   {
    "duration": 4,
    "start_time": "2025-03-16T17:29:28.714Z"
   },
   {
    "duration": 5,
    "start_time": "2025-03-16T17:29:28.720Z"
   },
   {
    "duration": 2,
    "start_time": "2025-03-16T17:29:28.729Z"
   },
   {
    "duration": 4,
    "start_time": "2025-03-16T17:29:28.733Z"
   },
   {
    "duration": 5,
    "start_time": "2025-03-16T17:29:28.739Z"
   },
   {
    "duration": 4,
    "start_time": "2025-03-16T17:29:28.745Z"
   },
   {
    "duration": 200,
    "start_time": "2025-03-16T17:29:28.750Z"
   },
   {
    "duration": 241,
    "start_time": "2025-03-16T17:29:28.952Z"
   },
   {
    "duration": 17,
    "start_time": "2025-03-16T17:29:29.195Z"
   },
   {
    "duration": 163,
    "start_time": "2025-03-16T17:29:29.214Z"
   },
   {
    "duration": 0,
    "start_time": "2025-03-16T17:29:29.379Z"
   },
   {
    "duration": 0,
    "start_time": "2025-03-16T17:29:29.380Z"
   },
   {
    "duration": 0,
    "start_time": "2025-03-16T17:29:29.382Z"
   },
   {
    "duration": 0,
    "start_time": "2025-03-16T17:29:29.383Z"
   },
   {
    "duration": 0,
    "start_time": "2025-03-16T17:29:29.385Z"
   },
   {
    "duration": 0,
    "start_time": "2025-03-16T17:29:29.386Z"
   },
   {
    "duration": 0,
    "start_time": "2025-03-16T17:29:29.388Z"
   },
   {
    "duration": 0,
    "start_time": "2025-03-16T17:29:29.389Z"
   },
   {
    "duration": 0,
    "start_time": "2025-03-16T17:29:29.391Z"
   },
   {
    "duration": 0,
    "start_time": "2025-03-16T17:29:29.409Z"
   },
   {
    "duration": 0,
    "start_time": "2025-03-16T17:29:29.410Z"
   },
   {
    "duration": 33,
    "start_time": "2025-03-16T17:31:05.182Z"
   },
   {
    "duration": 200,
    "start_time": "2025-03-16T17:31:21.488Z"
   },
   {
    "duration": 216,
    "start_time": "2025-03-16T17:31:22.930Z"
   },
   {
    "duration": 1180,
    "start_time": "2025-03-16T17:34:45.793Z"
   },
   {
    "duration": 8,
    "start_time": "2025-03-16T17:34:46.975Z"
   },
   {
    "duration": 15,
    "start_time": "2025-03-16T17:34:46.985Z"
   },
   {
    "duration": 9,
    "start_time": "2025-03-16T17:34:47.011Z"
   },
   {
    "duration": 4,
    "start_time": "2025-03-16T17:34:47.023Z"
   },
   {
    "duration": 4,
    "start_time": "2025-03-16T17:34:47.029Z"
   },
   {
    "duration": 29,
    "start_time": "2025-03-16T17:34:47.035Z"
   },
   {
    "duration": 4,
    "start_time": "2025-03-16T17:34:47.066Z"
   },
   {
    "duration": 39,
    "start_time": "2025-03-16T17:34:47.071Z"
   },
   {
    "duration": 3,
    "start_time": "2025-03-16T17:34:47.114Z"
   },
   {
    "duration": 4,
    "start_time": "2025-03-16T17:34:47.119Z"
   },
   {
    "duration": 6,
    "start_time": "2025-03-16T17:34:47.125Z"
   },
   {
    "duration": 6,
    "start_time": "2025-03-16T17:34:47.133Z"
   },
   {
    "duration": 218,
    "start_time": "2025-03-16T17:34:47.141Z"
   },
   {
    "duration": 259,
    "start_time": "2025-03-16T17:34:47.362Z"
   },
   {
    "duration": 12,
    "start_time": "2025-03-16T17:34:47.623Z"
   },
   {
    "duration": 183,
    "start_time": "2025-03-16T17:34:47.637Z"
   },
   {
    "duration": 0,
    "start_time": "2025-03-16T17:34:47.822Z"
   },
   {
    "duration": 0,
    "start_time": "2025-03-16T17:34:47.823Z"
   },
   {
    "duration": 0,
    "start_time": "2025-03-16T17:34:47.825Z"
   },
   {
    "duration": 0,
    "start_time": "2025-03-16T17:34:47.826Z"
   },
   {
    "duration": 0,
    "start_time": "2025-03-16T17:34:47.828Z"
   },
   {
    "duration": 1,
    "start_time": "2025-03-16T17:34:47.829Z"
   },
   {
    "duration": 0,
    "start_time": "2025-03-16T17:34:47.831Z"
   },
   {
    "duration": 0,
    "start_time": "2025-03-16T17:34:47.833Z"
   },
   {
    "duration": 0,
    "start_time": "2025-03-16T17:34:47.834Z"
   },
   {
    "duration": 0,
    "start_time": "2025-03-16T17:34:47.835Z"
   },
   {
    "duration": 0,
    "start_time": "2025-03-16T17:34:47.837Z"
   },
   {
    "duration": 548,
    "start_time": "2025-03-16T17:36:07.250Z"
   },
   {
    "duration": 29,
    "start_time": "2025-03-16T17:36:23.614Z"
   },
   {
    "duration": 251,
    "start_time": "2025-03-16T17:36:34.497Z"
   },
   {
    "duration": 376,
    "start_time": "2025-03-16T18:16:56.157Z"
   },
   {
    "duration": 12,
    "start_time": "2025-03-16T18:18:23.085Z"
   },
   {
    "duration": 12,
    "start_time": "2025-03-16T18:18:31.853Z"
   },
   {
    "duration": 15,
    "start_time": "2025-03-16T18:18:57.039Z"
   },
   {
    "duration": 2766,
    "start_time": "2025-03-16T18:19:05.597Z"
   },
   {
    "duration": 11,
    "start_time": "2025-03-16T18:19:08.365Z"
   },
   {
    "duration": 12,
    "start_time": "2025-03-16T18:19:08.377Z"
   },
   {
    "duration": 9,
    "start_time": "2025-03-16T18:19:08.392Z"
   },
   {
    "duration": 4,
    "start_time": "2025-03-16T18:19:08.402Z"
   },
   {
    "duration": 4,
    "start_time": "2025-03-16T18:19:08.408Z"
   },
   {
    "duration": 49,
    "start_time": "2025-03-16T18:19:08.414Z"
   },
   {
    "duration": 4,
    "start_time": "2025-03-16T18:19:08.464Z"
   },
   {
    "duration": 5,
    "start_time": "2025-03-16T18:19:08.470Z"
   },
   {
    "duration": 3,
    "start_time": "2025-03-16T18:19:08.479Z"
   },
   {
    "duration": 6,
    "start_time": "2025-03-16T18:19:08.483Z"
   },
   {
    "duration": 172,
    "start_time": "2025-03-16T18:19:08.490Z"
   },
   {
    "duration": 0,
    "start_time": "2025-03-16T18:19:08.664Z"
   },
   {
    "duration": 0,
    "start_time": "2025-03-16T18:19:08.666Z"
   },
   {
    "duration": 0,
    "start_time": "2025-03-16T18:19:08.667Z"
   },
   {
    "duration": 0,
    "start_time": "2025-03-16T18:19:08.668Z"
   },
   {
    "duration": 0,
    "start_time": "2025-03-16T18:19:08.670Z"
   },
   {
    "duration": 0,
    "start_time": "2025-03-16T18:19:08.671Z"
   },
   {
    "duration": 0,
    "start_time": "2025-03-16T18:19:08.672Z"
   },
   {
    "duration": 0,
    "start_time": "2025-03-16T18:19:08.673Z"
   },
   {
    "duration": 0,
    "start_time": "2025-03-16T18:19:08.674Z"
   },
   {
    "duration": 0,
    "start_time": "2025-03-16T18:19:08.675Z"
   },
   {
    "duration": 0,
    "start_time": "2025-03-16T18:19:08.676Z"
   },
   {
    "duration": 0,
    "start_time": "2025-03-16T18:19:08.678Z"
   },
   {
    "duration": 0,
    "start_time": "2025-03-16T18:19:08.679Z"
   },
   {
    "duration": 0,
    "start_time": "2025-03-16T18:19:08.681Z"
   },
   {
    "duration": 0,
    "start_time": "2025-03-16T18:19:08.682Z"
   },
   {
    "duration": 0,
    "start_time": "2025-03-16T18:19:08.683Z"
   },
   {
    "duration": 0,
    "start_time": "2025-03-16T18:19:08.685Z"
   },
   {
    "duration": 5,
    "start_time": "2025-03-16T18:19:46.819Z"
   },
   {
    "duration": 6,
    "start_time": "2025-03-16T18:20:20.791Z"
   },
   {
    "duration": 3,
    "start_time": "2025-03-16T18:20:21.987Z"
   },
   {
    "duration": 173,
    "start_time": "2025-03-16T18:20:22.906Z"
   },
   {
    "duration": 261,
    "start_time": "2025-03-16T18:20:23.967Z"
   },
   {
    "duration": 174,
    "start_time": "2025-03-16T18:22:10.510Z"
   },
   {
    "duration": 10,
    "start_time": "2025-03-16T18:22:19.591Z"
   },
   {
    "duration": 453,
    "start_time": "2025-03-16T18:23:28.665Z"
   },
   {
    "duration": 51,
    "start_time": "2025-03-16T18:24:19.653Z"
   },
   {
    "duration": 3,
    "start_time": "2025-03-16T18:25:05.836Z"
   },
   {
    "duration": 3,
    "start_time": "2025-03-16T18:25:27.251Z"
   },
   {
    "duration": 43,
    "start_time": "2025-03-16T18:25:37.975Z"
   },
   {
    "duration": 4,
    "start_time": "2025-03-16T18:26:25.684Z"
   },
   {
    "duration": 4,
    "start_time": "2025-03-16T18:26:35.788Z"
   },
   {
    "duration": 52,
    "start_time": "2025-03-16T18:26:48.446Z"
   },
   {
    "duration": 1087,
    "start_time": "2025-03-16T18:27:44.243Z"
   },
   {
    "duration": 12,
    "start_time": "2025-03-16T18:27:45.332Z"
   },
   {
    "duration": 11,
    "start_time": "2025-03-16T18:27:45.346Z"
   },
   {
    "duration": 9,
    "start_time": "2025-03-16T18:27:45.359Z"
   },
   {
    "duration": 3,
    "start_time": "2025-03-16T18:27:45.369Z"
   },
   {
    "duration": 5,
    "start_time": "2025-03-16T18:27:45.374Z"
   },
   {
    "duration": 22,
    "start_time": "2025-03-16T18:27:45.381Z"
   },
   {
    "duration": 4,
    "start_time": "2025-03-16T18:27:45.404Z"
   },
   {
    "duration": 36,
    "start_time": "2025-03-16T18:27:45.409Z"
   },
   {
    "duration": 1,
    "start_time": "2025-03-16T18:27:45.449Z"
   },
   {
    "duration": 5,
    "start_time": "2025-03-16T18:27:45.452Z"
   },
   {
    "duration": 4,
    "start_time": "2025-03-16T18:27:45.459Z"
   },
   {
    "duration": 5,
    "start_time": "2025-03-16T18:27:45.465Z"
   },
   {
    "duration": 3,
    "start_time": "2025-03-16T18:27:45.471Z"
   },
   {
    "duration": 204,
    "start_time": "2025-03-16T18:27:45.475Z"
   },
   {
    "duration": 9,
    "start_time": "2025-03-16T18:27:45.681Z"
   },
   {
    "duration": 3,
    "start_time": "2025-03-16T18:27:45.692Z"
   },
   {
    "duration": 3,
    "start_time": "2025-03-16T18:27:45.696Z"
   },
   {
    "duration": 4,
    "start_time": "2025-03-16T18:27:45.701Z"
   },
   {
    "duration": 670,
    "start_time": "2025-03-16T18:27:45.706Z"
   },
   {
    "duration": 0,
    "start_time": "2025-03-16T18:27:46.379Z"
   },
   {
    "duration": 0,
    "start_time": "2025-03-16T18:27:46.380Z"
   },
   {
    "duration": 1,
    "start_time": "2025-03-16T18:27:46.381Z"
   },
   {
    "duration": 0,
    "start_time": "2025-03-16T18:27:46.383Z"
   },
   {
    "duration": 0,
    "start_time": "2025-03-16T18:27:46.384Z"
   },
   {
    "duration": 0,
    "start_time": "2025-03-16T18:27:46.386Z"
   },
   {
    "duration": 0,
    "start_time": "2025-03-16T18:27:46.387Z"
   },
   {
    "duration": 0,
    "start_time": "2025-03-16T18:27:46.388Z"
   },
   {
    "duration": 0,
    "start_time": "2025-03-16T18:27:46.389Z"
   },
   {
    "duration": 0,
    "start_time": "2025-03-16T18:27:46.390Z"
   },
   {
    "duration": 0,
    "start_time": "2025-03-16T18:27:46.391Z"
   },
   {
    "duration": 0,
    "start_time": "2025-03-16T18:27:46.392Z"
   },
   {
    "duration": 0,
    "start_time": "2025-03-16T18:27:46.393Z"
   },
   {
    "duration": 0,
    "start_time": "2025-03-16T18:27:46.394Z"
   },
   {
    "duration": 48,
    "start_time": "2025-03-16T18:28:23.275Z"
   },
   {
    "duration": 487,
    "start_time": "2025-03-16T18:28:41.908Z"
   },
   {
    "duration": 222,
    "start_time": "2025-03-16T18:28:51.878Z"
   },
   {
    "duration": 4,
    "start_time": "2025-03-16T18:29:20.101Z"
   },
   {
    "duration": 4,
    "start_time": "2025-03-16T18:29:26.659Z"
   },
   {
    "duration": 4,
    "start_time": "2025-03-16T18:29:37.761Z"
   },
   {
    "duration": 4,
    "start_time": "2025-03-16T18:33:47.528Z"
   },
   {
    "duration": 125,
    "start_time": "2025-03-16T18:33:59.083Z"
   },
   {
    "duration": 4,
    "start_time": "2025-03-16T18:34:14.009Z"
   },
   {
    "duration": 1035,
    "start_time": "2025-03-16T18:34:26.481Z"
   },
   {
    "duration": 8,
    "start_time": "2025-03-16T18:34:27.518Z"
   },
   {
    "duration": 15,
    "start_time": "2025-03-16T18:34:27.528Z"
   },
   {
    "duration": 9,
    "start_time": "2025-03-16T18:34:27.545Z"
   },
   {
    "duration": 4,
    "start_time": "2025-03-16T18:34:27.556Z"
   },
   {
    "duration": 5,
    "start_time": "2025-03-16T18:34:27.561Z"
   },
   {
    "duration": 31,
    "start_time": "2025-03-16T18:34:27.570Z"
   },
   {
    "duration": 8,
    "start_time": "2025-03-16T18:34:27.603Z"
   },
   {
    "duration": 30,
    "start_time": "2025-03-16T18:34:27.614Z"
   },
   {
    "duration": 3,
    "start_time": "2025-03-16T18:34:27.648Z"
   },
   {
    "duration": 9,
    "start_time": "2025-03-16T18:34:27.653Z"
   },
   {
    "duration": 9,
    "start_time": "2025-03-16T18:34:27.663Z"
   },
   {
    "duration": 7,
    "start_time": "2025-03-16T18:34:27.674Z"
   },
   {
    "duration": 2,
    "start_time": "2025-03-16T18:34:27.683Z"
   },
   {
    "duration": 191,
    "start_time": "2025-03-16T18:34:27.687Z"
   },
   {
    "duration": 9,
    "start_time": "2025-03-16T18:34:27.880Z"
   },
   {
    "duration": 509,
    "start_time": "2025-03-16T18:34:27.891Z"
   },
   {
    "duration": 4,
    "start_time": "2025-03-16T18:34:28.402Z"
   },
   {
    "duration": 155,
    "start_time": "2025-03-16T18:34:28.408Z"
   },
   {
    "duration": 0,
    "start_time": "2025-03-16T18:34:28.565Z"
   },
   {
    "duration": 0,
    "start_time": "2025-03-16T18:34:28.566Z"
   },
   {
    "duration": 0,
    "start_time": "2025-03-16T18:34:28.567Z"
   },
   {
    "duration": 0,
    "start_time": "2025-03-16T18:34:28.568Z"
   },
   {
    "duration": 0,
    "start_time": "2025-03-16T18:34:28.569Z"
   },
   {
    "duration": 0,
    "start_time": "2025-03-16T18:34:28.570Z"
   },
   {
    "duration": 0,
    "start_time": "2025-03-16T18:34:28.572Z"
   },
   {
    "duration": 0,
    "start_time": "2025-03-16T18:34:28.573Z"
   },
   {
    "duration": 0,
    "start_time": "2025-03-16T18:34:28.575Z"
   },
   {
    "duration": 0,
    "start_time": "2025-03-16T18:34:28.576Z"
   },
   {
    "duration": 0,
    "start_time": "2025-03-16T18:34:28.577Z"
   },
   {
    "duration": 48,
    "start_time": "2025-03-16T18:38:55.641Z"
   },
   {
    "duration": 463,
    "start_time": "2025-03-16T18:39:51.166Z"
   },
   {
    "duration": 788,
    "start_time": "2025-03-16T18:41:30.038Z"
   },
   {
    "duration": 102,
    "start_time": "2025-03-16T18:42:17.159Z"
   },
   {
    "duration": 1288,
    "start_time": "2025-03-16T18:42:23.246Z"
   },
   {
    "duration": 19,
    "start_time": "2025-03-16T18:42:24.538Z"
   },
   {
    "duration": 16,
    "start_time": "2025-03-16T18:42:24.561Z"
   },
   {
    "duration": 12,
    "start_time": "2025-03-16T18:42:24.584Z"
   },
   {
    "duration": 5,
    "start_time": "2025-03-16T18:42:24.597Z"
   },
   {
    "duration": 5,
    "start_time": "2025-03-16T18:42:24.604Z"
   },
   {
    "duration": 22,
    "start_time": "2025-03-16T18:42:24.610Z"
   },
   {
    "duration": 15,
    "start_time": "2025-03-16T18:42:24.634Z"
   },
   {
    "duration": 6,
    "start_time": "2025-03-16T18:42:24.651Z"
   },
   {
    "duration": 2,
    "start_time": "2025-03-16T18:42:24.660Z"
   },
   {
    "duration": 4,
    "start_time": "2025-03-16T18:42:24.664Z"
   },
   {
    "duration": 13,
    "start_time": "2025-03-16T18:42:24.670Z"
   },
   {
    "duration": 5,
    "start_time": "2025-03-16T18:42:24.685Z"
   },
   {
    "duration": 926,
    "start_time": "2025-03-16T18:42:24.692Z"
   },
   {
    "duration": 0,
    "start_time": "2025-03-16T18:42:25.621Z"
   },
   {
    "duration": 0,
    "start_time": "2025-03-16T18:42:25.622Z"
   },
   {
    "duration": 0,
    "start_time": "2025-03-16T18:42:25.623Z"
   },
   {
    "duration": 0,
    "start_time": "2025-03-16T18:42:25.624Z"
   },
   {
    "duration": 0,
    "start_time": "2025-03-16T18:42:25.625Z"
   },
   {
    "duration": 0,
    "start_time": "2025-03-16T18:42:25.626Z"
   },
   {
    "duration": 0,
    "start_time": "2025-03-16T18:42:25.627Z"
   },
   {
    "duration": 0,
    "start_time": "2025-03-16T18:42:25.628Z"
   },
   {
    "duration": 0,
    "start_time": "2025-03-16T18:42:25.628Z"
   },
   {
    "duration": 0,
    "start_time": "2025-03-16T18:42:25.629Z"
   },
   {
    "duration": 0,
    "start_time": "2025-03-16T18:42:25.629Z"
   },
   {
    "duration": 0,
    "start_time": "2025-03-16T18:42:25.642Z"
   },
   {
    "duration": 0,
    "start_time": "2025-03-16T18:42:25.643Z"
   },
   {
    "duration": 0,
    "start_time": "2025-03-16T18:42:25.644Z"
   },
   {
    "duration": 0,
    "start_time": "2025-03-16T18:42:25.645Z"
   },
   {
    "duration": 0,
    "start_time": "2025-03-16T18:42:25.646Z"
   },
   {
    "duration": 0,
    "start_time": "2025-03-16T18:42:25.646Z"
   },
   {
    "duration": 0,
    "start_time": "2025-03-16T18:42:25.647Z"
   },
   {
    "duration": 320,
    "start_time": "2025-03-16T18:43:27.975Z"
   },
   {
    "duration": 473,
    "start_time": "2025-03-16T18:43:36.673Z"
   },
   {
    "duration": 235,
    "start_time": "2025-03-16T18:44:12.478Z"
   },
   {
    "duration": 191,
    "start_time": "2025-03-16T18:44:19.434Z"
   },
   {
    "duration": 163,
    "start_time": "2025-03-16T18:45:09.887Z"
   },
   {
    "duration": 5,
    "start_time": "2025-03-16T18:47:07.987Z"
   },
   {
    "duration": 5,
    "start_time": "2025-03-16T18:47:12.917Z"
   },
   {
    "duration": 5,
    "start_time": "2025-03-16T18:47:14.698Z"
   },
   {
    "duration": 12,
    "start_time": "2025-03-16T18:47:21.049Z"
   },
   {
    "duration": 7,
    "start_time": "2025-03-16T18:47:21.842Z"
   },
   {
    "duration": 12,
    "start_time": "2025-03-16T18:47:30.555Z"
   },
   {
    "duration": 5,
    "start_time": "2025-03-16T18:47:31.427Z"
   },
   {
    "duration": 7,
    "start_time": "2025-03-16T18:47:32.189Z"
   },
   {
    "duration": 4,
    "start_time": "2025-03-16T18:47:43.814Z"
   },
   {
    "duration": 13,
    "start_time": "2025-03-16T18:47:44.566Z"
   },
   {
    "duration": 6,
    "start_time": "2025-03-16T18:47:46.604Z"
   },
   {
    "duration": 11,
    "start_time": "2025-03-16T18:47:47.695Z"
   },
   {
    "duration": 9,
    "start_time": "2025-03-16T18:48:13.281Z"
   },
   {
    "duration": 1386,
    "start_time": "2025-03-16T18:48:19.979Z"
   },
   {
    "duration": 14,
    "start_time": "2025-03-16T18:48:21.367Z"
   },
   {
    "duration": 15,
    "start_time": "2025-03-16T18:48:21.387Z"
   },
   {
    "duration": 12,
    "start_time": "2025-03-16T18:48:21.404Z"
   },
   {
    "duration": 3,
    "start_time": "2025-03-16T18:48:21.420Z"
   },
   {
    "duration": 37,
    "start_time": "2025-03-16T18:48:21.425Z"
   },
   {
    "duration": 39,
    "start_time": "2025-03-16T18:48:21.471Z"
   },
   {
    "duration": 4,
    "start_time": "2025-03-16T18:48:21.512Z"
   },
   {
    "duration": 4,
    "start_time": "2025-03-16T18:48:21.518Z"
   },
   {
    "duration": 2,
    "start_time": "2025-03-16T18:48:21.524Z"
   },
   {
    "duration": 4,
    "start_time": "2025-03-16T18:48:21.528Z"
   },
   {
    "duration": 4,
    "start_time": "2025-03-16T18:48:21.534Z"
   },
   {
    "duration": 43,
    "start_time": "2025-03-16T18:48:21.539Z"
   },
   {
    "duration": 4,
    "start_time": "2025-03-16T18:48:21.585Z"
   },
   {
    "duration": 6,
    "start_time": "2025-03-16T18:48:21.590Z"
   },
   {
    "duration": 293,
    "start_time": "2025-03-16T18:48:21.598Z"
   },
   {
    "duration": 0,
    "start_time": "2025-03-16T18:48:21.893Z"
   },
   {
    "duration": 0,
    "start_time": "2025-03-16T18:48:21.897Z"
   },
   {
    "duration": 0,
    "start_time": "2025-03-16T18:48:21.898Z"
   },
   {
    "duration": 0,
    "start_time": "2025-03-16T18:48:21.899Z"
   },
   {
    "duration": 0,
    "start_time": "2025-03-16T18:48:21.900Z"
   },
   {
    "duration": 0,
    "start_time": "2025-03-16T18:48:21.902Z"
   },
   {
    "duration": 0,
    "start_time": "2025-03-16T18:48:21.903Z"
   },
   {
    "duration": 0,
    "start_time": "2025-03-16T18:48:21.905Z"
   },
   {
    "duration": 0,
    "start_time": "2025-03-16T18:48:21.906Z"
   },
   {
    "duration": 0,
    "start_time": "2025-03-16T18:48:21.907Z"
   },
   {
    "duration": 0,
    "start_time": "2025-03-16T18:48:21.909Z"
   },
   {
    "duration": 0,
    "start_time": "2025-03-16T18:48:21.910Z"
   },
   {
    "duration": 0,
    "start_time": "2025-03-16T18:48:21.911Z"
   },
   {
    "duration": 0,
    "start_time": "2025-03-16T18:48:21.912Z"
   },
   {
    "duration": 0,
    "start_time": "2025-03-16T18:48:21.914Z"
   },
   {
    "duration": 0,
    "start_time": "2025-03-16T18:48:21.944Z"
   },
   {
    "duration": 0,
    "start_time": "2025-03-16T18:48:21.945Z"
   },
   {
    "duration": 0,
    "start_time": "2025-03-16T18:48:21.950Z"
   },
   {
    "duration": 0,
    "start_time": "2025-03-16T18:48:21.951Z"
   },
   {
    "duration": 23,
    "start_time": "2025-03-16T18:48:36.155Z"
   },
   {
    "duration": 242,
    "start_time": "2025-03-16T18:49:16.678Z"
   },
   {
    "duration": 10,
    "start_time": "2025-03-16T18:49:18.095Z"
   },
   {
    "duration": 600,
    "start_time": "2025-03-16T18:49:32.493Z"
   },
   {
    "duration": 753,
    "start_time": "2025-03-16T18:50:18.764Z"
   },
   {
    "duration": 8,
    "start_time": "2025-03-16T18:50:27.345Z"
   },
   {
    "duration": 25,
    "start_time": "2025-03-16T18:51:25.750Z"
   },
   {
    "duration": 9,
    "start_time": "2025-03-16T18:51:32.267Z"
   },
   {
    "duration": 13,
    "start_time": "2025-03-16T18:52:28.781Z"
   },
   {
    "duration": 15,
    "start_time": "2025-03-16T18:52:46.747Z"
   },
   {
    "duration": 8,
    "start_time": "2025-03-16T18:52:47.875Z"
   },
   {
    "duration": 1210,
    "start_time": "2025-03-16T18:52:53.790Z"
   },
   {
    "duration": 8,
    "start_time": "2025-03-16T18:52:55.002Z"
   },
   {
    "duration": 12,
    "start_time": "2025-03-16T18:52:55.011Z"
   },
   {
    "duration": 26,
    "start_time": "2025-03-16T18:52:55.026Z"
   },
   {
    "duration": 5,
    "start_time": "2025-03-16T18:52:55.057Z"
   },
   {
    "duration": 7,
    "start_time": "2025-03-16T18:52:55.067Z"
   },
   {
    "duration": 28,
    "start_time": "2025-03-16T18:52:55.079Z"
   },
   {
    "duration": 6,
    "start_time": "2025-03-16T18:52:55.109Z"
   },
   {
    "duration": 5,
    "start_time": "2025-03-16T18:52:55.117Z"
   },
   {
    "duration": 2,
    "start_time": "2025-03-16T18:52:55.125Z"
   },
   {
    "duration": 6,
    "start_time": "2025-03-16T18:52:55.146Z"
   },
   {
    "duration": 25,
    "start_time": "2025-03-16T18:52:55.158Z"
   },
   {
    "duration": 10,
    "start_time": "2025-03-16T18:52:55.188Z"
   },
   {
    "duration": 11,
    "start_time": "2025-03-16T18:52:55.199Z"
   },
   {
    "duration": 14,
    "start_time": "2025-03-16T18:52:55.212Z"
   },
   {
    "duration": 6,
    "start_time": "2025-03-16T18:52:55.228Z"
   },
   {
    "duration": 4,
    "start_time": "2025-03-16T18:52:55.243Z"
   },
   {
    "duration": 248,
    "start_time": "2025-03-16T18:52:55.251Z"
   },
   {
    "duration": 594,
    "start_time": "2025-03-16T18:52:55.501Z"
   },
   {
    "duration": 6,
    "start_time": "2025-03-16T18:52:56.097Z"
   },
   {
    "duration": 10,
    "start_time": "2025-03-16T18:52:56.105Z"
   },
   {
    "duration": 0,
    "start_time": "2025-03-16T18:52:56.118Z"
   },
   {
    "duration": 0,
    "start_time": "2025-03-16T18:52:56.119Z"
   },
   {
    "duration": 0,
    "start_time": "2025-03-16T18:52:56.120Z"
   },
   {
    "duration": 0,
    "start_time": "2025-03-16T18:52:56.121Z"
   },
   {
    "duration": 0,
    "start_time": "2025-03-16T18:52:56.122Z"
   },
   {
    "duration": 0,
    "start_time": "2025-03-16T18:52:56.123Z"
   },
   {
    "duration": 0,
    "start_time": "2025-03-16T18:52:56.124Z"
   },
   {
    "duration": 0,
    "start_time": "2025-03-16T18:52:56.125Z"
   },
   {
    "duration": 0,
    "start_time": "2025-03-16T18:52:56.126Z"
   },
   {
    "duration": 0,
    "start_time": "2025-03-16T18:52:56.127Z"
   },
   {
    "duration": 0,
    "start_time": "2025-03-16T18:52:56.128Z"
   },
   {
    "duration": 0,
    "start_time": "2025-03-16T18:52:56.129Z"
   },
   {
    "duration": 0,
    "start_time": "2025-03-16T18:52:56.130Z"
   },
   {
    "duration": 11,
    "start_time": "2025-03-16T18:53:16.761Z"
   },
   {
    "duration": 192,
    "start_time": "2025-03-16T18:53:48.825Z"
   },
   {
    "duration": 15,
    "start_time": "2025-03-16T18:55:16.941Z"
   },
   {
    "duration": 217,
    "start_time": "2025-03-16T18:55:18.244Z"
   },
   {
    "duration": 199,
    "start_time": "2025-03-16T18:55:27.100Z"
   },
   {
    "duration": 200,
    "start_time": "2025-03-16T18:57:43.786Z"
   },
   {
    "duration": 14,
    "start_time": "2025-03-16T18:59:11.936Z"
   },
   {
    "duration": 3,
    "start_time": "2025-03-16T18:59:40.962Z"
   },
   {
    "duration": 25,
    "start_time": "2025-03-16T18:59:56.230Z"
   },
   {
    "duration": 448,
    "start_time": "2025-03-16T19:00:50.495Z"
   },
   {
    "duration": 217,
    "start_time": "2025-03-16T19:01:12.377Z"
   },
   {
    "duration": 354,
    "start_time": "2025-03-16T19:01:15.514Z"
   },
   {
    "duration": 564,
    "start_time": "2025-03-16T19:02:56.808Z"
   },
   {
    "duration": 4,
    "start_time": "2025-03-16T19:04:00.228Z"
   },
   {
    "duration": 16,
    "start_time": "2025-03-16T19:08:56.328Z"
   },
   {
    "duration": 1004,
    "start_time": "2025-03-16T19:08:59.308Z"
   },
   {
    "duration": 700,
    "start_time": "2025-03-16T19:10:17.942Z"
   },
   {
    "duration": 116,
    "start_time": "2025-03-16T19:12:06.463Z"
   },
   {
    "duration": 2625,
    "start_time": "2025-03-16T19:12:39.848Z"
   },
   {
    "duration": 23,
    "start_time": "2025-03-16T19:12:42.476Z"
   },
   {
    "duration": 14,
    "start_time": "2025-03-16T19:13:16.088Z"
   },
   {
    "duration": 12,
    "start_time": "2025-03-16T19:13:46.244Z"
   },
   {
    "duration": 1107,
    "start_time": "2025-03-16T19:13:52.656Z"
   },
   {
    "duration": 10,
    "start_time": "2025-03-16T19:13:53.765Z"
   },
   {
    "duration": 12,
    "start_time": "2025-03-16T19:13:53.778Z"
   },
   {
    "duration": 9,
    "start_time": "2025-03-16T19:13:53.792Z"
   },
   {
    "duration": 4,
    "start_time": "2025-03-16T19:13:53.803Z"
   },
   {
    "duration": 4,
    "start_time": "2025-03-16T19:13:53.808Z"
   },
   {
    "duration": 45,
    "start_time": "2025-03-16T19:13:53.814Z"
   },
   {
    "duration": 4,
    "start_time": "2025-03-16T19:13:53.861Z"
   },
   {
    "duration": 6,
    "start_time": "2025-03-16T19:13:53.867Z"
   },
   {
    "duration": 2,
    "start_time": "2025-03-16T19:13:53.876Z"
   },
   {
    "duration": 5,
    "start_time": "2025-03-16T19:13:53.880Z"
   },
   {
    "duration": 17,
    "start_time": "2025-03-16T19:13:53.886Z"
   },
   {
    "duration": 6,
    "start_time": "2025-03-16T19:13:53.905Z"
   },
   {
    "duration": 34,
    "start_time": "2025-03-16T19:13:53.912Z"
   },
   {
    "duration": 12,
    "start_time": "2025-03-16T19:13:53.949Z"
   },
   {
    "duration": 3,
    "start_time": "2025-03-16T19:13:53.963Z"
   },
   {
    "duration": 210,
    "start_time": "2025-03-16T19:13:53.969Z"
   },
   {
    "duration": 530,
    "start_time": "2025-03-16T19:13:54.181Z"
   },
   {
    "duration": 4,
    "start_time": "2025-03-16T19:13:54.713Z"
   },
   {
    "duration": 9,
    "start_time": "2025-03-16T19:13:54.719Z"
   },
   {
    "duration": 138,
    "start_time": "2025-03-16T19:13:54.730Z"
   },
   {
    "duration": 152,
    "start_time": "2025-03-16T19:13:54.870Z"
   },
   {
    "duration": 18,
    "start_time": "2025-03-16T19:13:55.025Z"
   },
   {
    "duration": 24,
    "start_time": "2025-03-16T19:13:55.046Z"
   },
   {
    "duration": 464,
    "start_time": "2025-03-16T19:13:55.072Z"
   },
   {
    "duration": 455,
    "start_time": "2025-03-16T19:13:55.538Z"
   },
   {
    "duration": 2,
    "start_time": "2025-03-16T19:13:55.996Z"
   },
   {
    "duration": 235,
    "start_time": "2025-03-16T19:13:56.003Z"
   },
   {
    "duration": 235,
    "start_time": "2025-03-16T19:13:56.243Z"
   },
   {
    "duration": 63199,
    "start_time": "2025-03-16T19:13:56.480Z"
   },
   {
    "duration": 3,
    "start_time": "2025-03-16T19:14:59.681Z"
   },
   {
    "duration": 2,
    "start_time": "2025-03-16T19:14:59.686Z"
   },
   {
    "duration": 3,
    "start_time": "2025-03-16T19:14:59.690Z"
   },
   {
    "duration": 19,
    "start_time": "2025-03-16T19:14:59.743Z"
   },
   {
    "duration": 18793,
    "start_time": "2025-03-16T19:14:59.764Z"
   },
   {
    "duration": 1064,
    "start_time": "2025-03-16T19:15:25.980Z"
   },
   {
    "duration": 7,
    "start_time": "2025-03-16T19:15:27.047Z"
   },
   {
    "duration": 12,
    "start_time": "2025-03-16T19:15:27.055Z"
   },
   {
    "duration": 10,
    "start_time": "2025-03-16T19:15:27.070Z"
   },
   {
    "duration": 3,
    "start_time": "2025-03-16T19:15:27.082Z"
   },
   {
    "duration": 5,
    "start_time": "2025-03-16T19:15:27.087Z"
   },
   {
    "duration": 54,
    "start_time": "2025-03-16T19:15:27.094Z"
   },
   {
    "duration": 5,
    "start_time": "2025-03-16T19:15:27.149Z"
   },
   {
    "duration": 5,
    "start_time": "2025-03-16T19:15:27.156Z"
   },
   {
    "duration": 2,
    "start_time": "2025-03-16T19:15:27.165Z"
   },
   {
    "duration": 6,
    "start_time": "2025-03-16T19:15:27.169Z"
   },
   {
    "duration": 16,
    "start_time": "2025-03-16T19:15:27.177Z"
   },
   {
    "duration": 5,
    "start_time": "2025-03-16T19:15:27.194Z"
   },
   {
    "duration": 6,
    "start_time": "2025-03-16T19:15:27.201Z"
   },
   {
    "duration": 10,
    "start_time": "2025-03-16T19:15:27.242Z"
   },
   {
    "duration": 2,
    "start_time": "2025-03-16T19:15:27.254Z"
   },
   {
    "duration": 180,
    "start_time": "2025-03-16T19:15:27.262Z"
   },
   {
    "duration": 556,
    "start_time": "2025-03-16T19:15:27.444Z"
   },
   {
    "duration": 4,
    "start_time": "2025-03-16T19:15:28.002Z"
   },
   {
    "duration": 9,
    "start_time": "2025-03-16T19:15:28.008Z"
   },
   {
    "duration": 136,
    "start_time": "2025-03-16T19:15:28.018Z"
   },
   {
    "duration": 171,
    "start_time": "2025-03-16T19:15:28.156Z"
   },
   {
    "duration": 18,
    "start_time": "2025-03-16T19:15:28.329Z"
   },
   {
    "duration": 25,
    "start_time": "2025-03-16T19:15:28.349Z"
   },
   {
    "duration": 459,
    "start_time": "2025-03-16T19:15:28.376Z"
   },
   {
    "duration": 504,
    "start_time": "2025-03-16T19:15:28.842Z"
   },
   {
    "duration": 9,
    "start_time": "2025-03-16T19:15:29.350Z"
   },
   {
    "duration": 215,
    "start_time": "2025-03-16T19:15:29.366Z"
   },
   {
    "duration": 236,
    "start_time": "2025-03-16T19:15:29.583Z"
   },
   {
    "duration": 112,
    "start_time": "2025-03-16T19:15:29.820Z"
   },
   {
    "duration": 48621,
    "start_time": "2025-03-16T19:15:29.933Z"
   },
   {
    "duration": 2,
    "start_time": "2025-03-16T19:16:18.556Z"
   },
   {
    "duration": 4,
    "start_time": "2025-03-16T19:16:18.560Z"
   },
   {
    "duration": 3,
    "start_time": "2025-03-16T19:16:18.566Z"
   },
   {
    "duration": 15,
    "start_time": "2025-03-16T19:16:18.573Z"
   },
   {
    "duration": 19319,
    "start_time": "2025-03-16T19:16:18.590Z"
   },
   {
    "duration": 17741,
    "start_time": "2025-03-16T19:16:37.911Z"
   },
   {
    "duration": 1310,
    "start_time": "2025-03-16T19:16:55.655Z"
   },
   {
    "duration": 7,
    "start_time": "2025-03-16T19:16:56.967Z"
   },
   {
    "duration": 1295,
    "start_time": "2025-03-16T19:16:56.976Z"
   },
   {
    "duration": 1303,
    "start_time": "2025-03-16T19:16:58.272Z"
   },
   {
    "duration": 1050,
    "start_time": "2025-03-16T19:18:20.417Z"
   },
   {
    "duration": 1212,
    "start_time": "2025-03-16T19:19:03.069Z"
   },
   {
    "duration": 933,
    "start_time": "2025-03-16T19:19:39.422Z"
   },
   {
    "duration": 25,
    "start_time": "2025-03-16T19:20:48.029Z"
   },
   {
    "duration": 202,
    "start_time": "2025-03-16T19:21:26.624Z"
   },
   {
    "duration": 205,
    "start_time": "2025-03-16T19:21:33.711Z"
   },
   {
    "duration": 224,
    "start_time": "2025-03-16T19:21:38.882Z"
   },
   {
    "duration": 212,
    "start_time": "2025-03-16T19:21:40.632Z"
   },
   {
    "duration": 266,
    "start_time": "2025-03-16T19:21:49.342Z"
   },
   {
    "duration": 191,
    "start_time": "2025-03-16T19:21:51.453Z"
   },
   {
    "duration": 1065,
    "start_time": "2025-03-16T19:21:56.460Z"
   },
   {
    "duration": 7,
    "start_time": "2025-03-16T19:21:57.528Z"
   },
   {
    "duration": 15,
    "start_time": "2025-03-16T19:21:57.537Z"
   },
   {
    "duration": 8,
    "start_time": "2025-03-16T19:21:57.554Z"
   },
   {
    "duration": 4,
    "start_time": "2025-03-16T19:21:57.564Z"
   },
   {
    "duration": 4,
    "start_time": "2025-03-16T19:21:57.569Z"
   },
   {
    "duration": 19,
    "start_time": "2025-03-16T19:21:57.575Z"
   },
   {
    "duration": 3,
    "start_time": "2025-03-16T19:21:57.596Z"
   },
   {
    "duration": 5,
    "start_time": "2025-03-16T19:21:57.601Z"
   },
   {
    "duration": 2,
    "start_time": "2025-03-16T19:21:57.644Z"
   },
   {
    "duration": 5,
    "start_time": "2025-03-16T19:21:57.648Z"
   },
   {
    "duration": 11,
    "start_time": "2025-03-16T19:21:57.655Z"
   },
   {
    "duration": 4,
    "start_time": "2025-03-16T19:21:57.668Z"
   },
   {
    "duration": 5,
    "start_time": "2025-03-16T19:21:57.674Z"
   },
   {
    "duration": 11,
    "start_time": "2025-03-16T19:21:57.681Z"
   },
   {
    "duration": 4,
    "start_time": "2025-03-16T19:21:57.693Z"
   },
   {
    "duration": 205,
    "start_time": "2025-03-16T19:21:57.698Z"
   },
   {
    "duration": 510,
    "start_time": "2025-03-16T19:21:57.905Z"
   },
   {
    "duration": 5,
    "start_time": "2025-03-16T19:21:58.417Z"
   },
   {
    "duration": 9,
    "start_time": "2025-03-16T19:21:58.424Z"
   },
   {
    "duration": 139,
    "start_time": "2025-03-16T19:21:58.434Z"
   },
   {
    "duration": 146,
    "start_time": "2025-03-16T19:21:58.576Z"
   },
   {
    "duration": 20,
    "start_time": "2025-03-16T19:21:58.724Z"
   },
   {
    "duration": 22,
    "start_time": "2025-03-16T19:21:58.746Z"
   },
   {
    "duration": 433,
    "start_time": "2025-03-16T19:21:58.769Z"
   },
   {
    "duration": 490,
    "start_time": "2025-03-16T19:21:59.204Z"
   },
   {
    "duration": 2,
    "start_time": "2025-03-16T19:21:59.696Z"
   },
   {
    "duration": 215,
    "start_time": "2025-03-16T19:21:59.702Z"
   },
   {
    "duration": 223,
    "start_time": "2025-03-16T19:21:59.919Z"
   },
   {
    "duration": 110,
    "start_time": "2025-03-16T19:22:00.145Z"
   },
   {
    "duration": 805,
    "start_time": "2025-03-16T19:22:00.257Z"
   },
   {
    "duration": 2,
    "start_time": "2025-03-16T19:22:01.065Z"
   },
   {
    "duration": 2,
    "start_time": "2025-03-16T19:22:01.069Z"
   },
   {
    "duration": 13,
    "start_time": "2025-03-16T19:22:01.073Z"
   },
   {
    "duration": 1118,
    "start_time": "2025-03-16T19:22:01.089Z"
   },
   {
    "duration": 6542,
    "start_time": "2025-03-16T19:22:02.209Z"
   },
   {
    "duration": 1307,
    "start_time": "2025-03-16T19:22:08.753Z"
   },
   {
    "duration": 6,
    "start_time": "2025-03-16T19:22:10.062Z"
   },
   {
    "duration": 1501,
    "start_time": "2025-03-16T19:22:10.070Z"
   },
   {
    "duration": 1335,
    "start_time": "2025-03-16T19:22:11.642Z"
   },
   {
    "duration": 200,
    "start_time": "2025-03-16T19:22:26.977Z"
   },
   {
    "duration": 1066,
    "start_time": "2025-03-16T19:22:33.264Z"
   },
   {
    "duration": 11,
    "start_time": "2025-03-16T19:22:34.332Z"
   },
   {
    "duration": 10,
    "start_time": "2025-03-16T19:22:34.346Z"
   },
   {
    "duration": 8,
    "start_time": "2025-03-16T19:22:34.358Z"
   },
   {
    "duration": 3,
    "start_time": "2025-03-16T19:22:34.368Z"
   },
   {
    "duration": 5,
    "start_time": "2025-03-16T19:22:34.373Z"
   },
   {
    "duration": 20,
    "start_time": "2025-03-16T19:22:34.379Z"
   },
   {
    "duration": 4,
    "start_time": "2025-03-16T19:22:34.400Z"
   },
   {
    "duration": 36,
    "start_time": "2025-03-16T19:22:34.407Z"
   },
   {
    "duration": 2,
    "start_time": "2025-03-16T19:22:34.445Z"
   },
   {
    "duration": 5,
    "start_time": "2025-03-16T19:22:34.449Z"
   },
   {
    "duration": 13,
    "start_time": "2025-03-16T19:22:34.455Z"
   },
   {
    "duration": 5,
    "start_time": "2025-03-16T19:22:34.469Z"
   },
   {
    "duration": 5,
    "start_time": "2025-03-16T19:22:34.478Z"
   },
   {
    "duration": 10,
    "start_time": "2025-03-16T19:22:34.485Z"
   },
   {
    "duration": 46,
    "start_time": "2025-03-16T19:22:34.497Z"
   },
   {
    "duration": 179,
    "start_time": "2025-03-16T19:22:34.545Z"
   },
   {
    "duration": 553,
    "start_time": "2025-03-16T19:22:34.726Z"
   },
   {
    "duration": 5,
    "start_time": "2025-03-16T19:22:35.281Z"
   },
   {
    "duration": 10,
    "start_time": "2025-03-16T19:22:35.287Z"
   },
   {
    "duration": 138,
    "start_time": "2025-03-16T19:22:35.299Z"
   },
   {
    "duration": 145,
    "start_time": "2025-03-16T19:22:35.442Z"
   },
   {
    "duration": 11,
    "start_time": "2025-03-16T19:22:35.589Z"
   },
   {
    "duration": 23,
    "start_time": "2025-03-16T19:22:35.601Z"
   },
   {
    "duration": 427,
    "start_time": "2025-03-16T19:22:35.643Z"
   },
   {
    "duration": 495,
    "start_time": "2025-03-16T19:22:36.072Z"
   },
   {
    "duration": 2,
    "start_time": "2025-03-16T19:22:36.569Z"
   },
   {
    "duration": 238,
    "start_time": "2025-03-16T19:22:36.574Z"
   },
   {
    "duration": 211,
    "start_time": "2025-03-16T19:22:36.814Z"
   },
   {
    "duration": 115,
    "start_time": "2025-03-16T19:22:37.027Z"
   },
   {
    "duration": 523,
    "start_time": "2025-03-16T19:22:37.144Z"
   },
   {
    "duration": 2,
    "start_time": "2025-03-16T19:22:37.669Z"
   },
   {
    "duration": 3,
    "start_time": "2025-03-16T19:22:37.673Z"
   },
   {
    "duration": 75,
    "start_time": "2025-03-16T19:22:37.678Z"
   },
   {
    "duration": 1100,
    "start_time": "2025-03-16T19:22:37.755Z"
   },
   {
    "duration": 6797,
    "start_time": "2025-03-16T19:22:38.857Z"
   },
   {
    "duration": 1308,
    "start_time": "2025-03-16T19:22:45.656Z"
   },
   {
    "duration": 6,
    "start_time": "2025-03-16T19:22:46.966Z"
   },
   {
    "duration": 1291,
    "start_time": "2025-03-16T19:22:46.974Z"
   },
   {
    "duration": 1306,
    "start_time": "2025-03-16T19:22:48.267Z"
   },
   {
    "duration": 215,
    "start_time": "2025-03-16T19:22:49.643Z"
   },
   {
    "duration": 1060,
    "start_time": "2025-03-16T19:22:55.273Z"
   },
   {
    "duration": 8,
    "start_time": "2025-03-16T19:22:56.335Z"
   },
   {
    "duration": 11,
    "start_time": "2025-03-16T19:22:56.345Z"
   },
   {
    "duration": 8,
    "start_time": "2025-03-16T19:22:56.358Z"
   },
   {
    "duration": 4,
    "start_time": "2025-03-16T19:22:56.368Z"
   },
   {
    "duration": 7,
    "start_time": "2025-03-16T19:22:56.373Z"
   },
   {
    "duration": 23,
    "start_time": "2025-03-16T19:22:56.382Z"
   },
   {
    "duration": 37,
    "start_time": "2025-03-16T19:22:56.406Z"
   },
   {
    "duration": 4,
    "start_time": "2025-03-16T19:22:56.445Z"
   },
   {
    "duration": 2,
    "start_time": "2025-03-16T19:22:56.453Z"
   },
   {
    "duration": 4,
    "start_time": "2025-03-16T19:22:56.457Z"
   },
   {
    "duration": 11,
    "start_time": "2025-03-16T19:22:56.463Z"
   },
   {
    "duration": 4,
    "start_time": "2025-03-16T19:22:56.477Z"
   },
   {
    "duration": 5,
    "start_time": "2025-03-16T19:22:56.482Z"
   },
   {
    "duration": 10,
    "start_time": "2025-03-16T19:22:56.488Z"
   },
   {
    "duration": 2,
    "start_time": "2025-03-16T19:22:56.499Z"
   },
   {
    "duration": 170,
    "start_time": "2025-03-16T19:22:56.543Z"
   },
   {
    "duration": 545,
    "start_time": "2025-03-16T19:22:56.715Z"
   },
   {
    "duration": 4,
    "start_time": "2025-03-16T19:22:57.263Z"
   },
   {
    "duration": 10,
    "start_time": "2025-03-16T19:22:57.268Z"
   },
   {
    "duration": 133,
    "start_time": "2025-03-16T19:22:57.279Z"
   },
   {
    "duration": 147,
    "start_time": "2025-03-16T19:22:57.414Z"
   },
   {
    "duration": 11,
    "start_time": "2025-03-16T19:22:57.563Z"
   },
   {
    "duration": 23,
    "start_time": "2025-03-16T19:22:57.575Z"
   },
   {
    "duration": 436,
    "start_time": "2025-03-16T19:22:57.600Z"
   },
   {
    "duration": 467,
    "start_time": "2025-03-16T19:22:58.038Z"
   },
   {
    "duration": 2,
    "start_time": "2025-03-16T19:22:58.507Z"
   },
   {
    "duration": 209,
    "start_time": "2025-03-16T19:22:58.513Z"
   },
   {
    "duration": 206,
    "start_time": "2025-03-16T19:22:58.724Z"
   },
   {
    "duration": 104,
    "start_time": "2025-03-16T19:22:58.932Z"
   },
   {
    "duration": 601,
    "start_time": "2025-03-16T19:22:59.042Z"
   },
   {
    "duration": 3,
    "start_time": "2025-03-16T19:22:59.645Z"
   },
   {
    "duration": 2,
    "start_time": "2025-03-16T19:22:59.650Z"
   },
   {
    "duration": 15,
    "start_time": "2025-03-16T19:22:59.654Z"
   },
   {
    "duration": 1174,
    "start_time": "2025-03-16T19:22:59.670Z"
   },
   {
    "duration": 6409,
    "start_time": "2025-03-16T19:23:00.846Z"
   },
   {
    "duration": 1312,
    "start_time": "2025-03-16T19:23:07.258Z"
   },
   {
    "duration": 6,
    "start_time": "2025-03-16T19:23:08.572Z"
   },
   {
    "duration": 1316,
    "start_time": "2025-03-16T19:23:08.643Z"
   },
   {
    "duration": 1381,
    "start_time": "2025-03-16T19:23:09.962Z"
   },
   {
    "duration": 10,
    "start_time": "2025-03-16T19:23:45.045Z"
   },
   {
    "duration": 1305,
    "start_time": "2025-03-16T19:24:01.061Z"
   },
   {
    "duration": 7,
    "start_time": "2025-03-16T19:24:09.617Z"
   },
   {
    "duration": 1274,
    "start_time": "2025-03-16T19:24:16.397Z"
   },
   {
    "duration": 1273,
    "start_time": "2025-03-16T19:24:22.100Z"
   },
   {
    "duration": 244,
    "start_time": "2025-03-16T19:27:06.000Z"
   },
   {
    "duration": 11,
    "start_time": "2025-03-16T19:27:39.735Z"
   },
   {
    "duration": 10,
    "start_time": "2025-03-16T19:29:44.212Z"
   },
   {
    "duration": 16,
    "start_time": "2025-03-16T19:31:38.988Z"
   },
   {
    "duration": 7,
    "start_time": "2025-03-16T19:32:04.167Z"
   },
   {
    "duration": 8,
    "start_time": "2025-03-16T19:33:29.688Z"
   },
   {
    "duration": 7,
    "start_time": "2025-03-16T19:33:55.997Z"
   },
   {
    "duration": 2,
    "start_time": "2025-03-16T19:34:11.256Z"
   },
   {
    "duration": 138,
    "start_time": "2025-03-16T19:34:34.270Z"
   },
   {
    "duration": 101,
    "start_time": "2025-03-16T19:34:42.063Z"
   },
   {
    "duration": 153,
    "start_time": "2025-03-16T19:35:13.294Z"
   },
   {
    "duration": 2,
    "start_time": "2025-03-16T19:35:32.339Z"
   },
   {
    "duration": 14,
    "start_time": "2025-03-16T19:35:50.521Z"
   },
   {
    "duration": 3824,
    "start_time": "2025-03-16T19:36:02.197Z"
   },
   {
    "duration": 3844,
    "start_time": "2025-03-16T19:36:20.643Z"
   },
   {
    "duration": 1132,
    "start_time": "2025-03-16T19:36:58.516Z"
   },
   {
    "duration": 10,
    "start_time": "2025-03-16T19:36:59.650Z"
   },
   {
    "duration": 12,
    "start_time": "2025-03-16T19:36:59.662Z"
   },
   {
    "duration": 9,
    "start_time": "2025-03-16T19:36:59.676Z"
   },
   {
    "duration": 4,
    "start_time": "2025-03-16T19:36:59.686Z"
   },
   {
    "duration": 5,
    "start_time": "2025-03-16T19:36:59.691Z"
   },
   {
    "duration": 55,
    "start_time": "2025-03-16T19:36:59.697Z"
   },
   {
    "duration": 4,
    "start_time": "2025-03-16T19:36:59.754Z"
   },
   {
    "duration": 5,
    "start_time": "2025-03-16T19:36:59.760Z"
   },
   {
    "duration": 1,
    "start_time": "2025-03-16T19:36:59.768Z"
   },
   {
    "duration": 5,
    "start_time": "2025-03-16T19:36:59.771Z"
   },
   {
    "duration": 18,
    "start_time": "2025-03-16T19:36:59.778Z"
   },
   {
    "duration": 8,
    "start_time": "2025-03-16T19:36:59.797Z"
   },
   {
    "duration": 39,
    "start_time": "2025-03-16T19:36:59.807Z"
   },
   {
    "duration": 10,
    "start_time": "2025-03-16T19:36:59.848Z"
   },
   {
    "duration": 3,
    "start_time": "2025-03-16T19:36:59.861Z"
   },
   {
    "duration": 192,
    "start_time": "2025-03-16T19:36:59.866Z"
   },
   {
    "duration": 627,
    "start_time": "2025-03-16T19:37:00.060Z"
   },
   {
    "duration": 6,
    "start_time": "2025-03-16T19:37:00.689Z"
   },
   {
    "duration": 11,
    "start_time": "2025-03-16T19:37:00.697Z"
   },
   {
    "duration": 162,
    "start_time": "2025-03-16T19:37:00.710Z"
   },
   {
    "duration": 159,
    "start_time": "2025-03-16T19:37:00.874Z"
   },
   {
    "duration": 23,
    "start_time": "2025-03-16T19:37:01.036Z"
   },
   {
    "duration": 26,
    "start_time": "2025-03-16T19:37:01.061Z"
   },
   {
    "duration": 504,
    "start_time": "2025-03-16T19:37:01.090Z"
   },
   {
    "duration": 490,
    "start_time": "2025-03-16T19:37:01.596Z"
   },
   {
    "duration": 2,
    "start_time": "2025-03-16T19:37:02.087Z"
   },
   {
    "duration": 227,
    "start_time": "2025-03-16T19:37:02.095Z"
   },
   {
    "duration": 298,
    "start_time": "2025-03-16T19:37:02.324Z"
   },
   {
    "duration": 119,
    "start_time": "2025-03-16T19:37:02.624Z"
   },
   {
    "duration": 15604,
    "start_time": "2025-03-16T19:37:02.745Z"
   },
   {
    "duration": 13,
    "start_time": "2025-03-16T19:37:18.351Z"
   },
   {
    "duration": 7,
    "start_time": "2025-03-16T19:37:18.366Z"
   },
   {
    "duration": 11,
    "start_time": "2025-03-16T19:37:18.374Z"
   },
   {
    "duration": 154,
    "start_time": "2025-03-16T19:37:18.387Z"
   },
   {
    "duration": 14,
    "start_time": "2025-03-16T19:37:18.543Z"
   },
   {
    "duration": 3929,
    "start_time": "2025-03-16T19:37:18.558Z"
   },
   {
    "duration": 2,
    "start_time": "2025-03-16T19:37:22.489Z"
   },
   {
    "duration": 3,
    "start_time": "2025-03-16T19:37:22.493Z"
   },
   {
    "duration": 6264,
    "start_time": "2025-03-16T19:37:22.498Z"
   },
   {
    "duration": 1378,
    "start_time": "2025-03-16T19:37:28.764Z"
   },
   {
    "duration": 7,
    "start_time": "2025-03-16T19:37:30.144Z"
   },
   {
    "duration": 1391,
    "start_time": "2025-03-16T19:37:30.152Z"
   },
   {
    "duration": 1297,
    "start_time": "2025-03-16T19:37:31.545Z"
   },
   {
    "duration": 1004,
    "start_time": "2025-03-17T13:50:19.155Z"
   },
   {
    "duration": 15,
    "start_time": "2025-03-17T13:50:28.051Z"
   },
   {
    "duration": 6247,
    "start_time": "2025-03-17T13:51:01.513Z"
   },
   {
    "duration": 2831,
    "start_time": "2025-03-17T13:56:35.877Z"
   },
   {
    "duration": 15,
    "start_time": "2025-03-17T13:56:38.711Z"
   },
   {
    "duration": 13,
    "start_time": "2025-03-17T13:56:38.727Z"
   },
   {
    "duration": 8,
    "start_time": "2025-03-17T13:56:38.744Z"
   },
   {
    "duration": 3,
    "start_time": "2025-03-17T13:56:38.754Z"
   },
   {
    "duration": 4,
    "start_time": "2025-03-17T13:56:38.759Z"
   },
   {
    "duration": 23,
    "start_time": "2025-03-17T13:56:38.765Z"
   },
   {
    "duration": 4,
    "start_time": "2025-03-17T13:56:38.791Z"
   },
   {
    "duration": 5,
    "start_time": "2025-03-17T13:56:38.824Z"
   },
   {
    "duration": 3,
    "start_time": "2025-03-17T13:56:38.832Z"
   },
   {
    "duration": 5,
    "start_time": "2025-03-17T13:56:38.836Z"
   },
   {
    "duration": 12,
    "start_time": "2025-03-17T13:56:38.843Z"
   },
   {
    "duration": 4,
    "start_time": "2025-03-17T13:56:38.857Z"
   },
   {
    "duration": 7,
    "start_time": "2025-03-17T13:56:38.863Z"
   },
   {
    "duration": 10,
    "start_time": "2025-03-17T13:56:38.872Z"
   },
   {
    "duration": 2,
    "start_time": "2025-03-17T13:56:38.923Z"
   },
   {
    "duration": 180,
    "start_time": "2025-03-17T13:56:38.927Z"
   },
   {
    "duration": 631,
    "start_time": "2025-03-17T13:56:39.109Z"
   },
   {
    "duration": 5,
    "start_time": "2025-03-17T13:56:39.742Z"
   },
   {
    "duration": 10,
    "start_time": "2025-03-17T13:56:39.749Z"
   },
   {
    "duration": 136,
    "start_time": "2025-03-17T13:56:39.761Z"
   },
   {
    "duration": 149,
    "start_time": "2025-03-17T13:56:39.900Z"
   },
   {
    "duration": 12,
    "start_time": "2025-03-17T13:56:40.051Z"
   },
   {
    "duration": 25,
    "start_time": "2025-03-17T13:56:40.064Z"
   },
   {
    "duration": 443,
    "start_time": "2025-03-17T13:56:40.090Z"
   },
   {
    "duration": 527,
    "start_time": "2025-03-17T13:56:40.535Z"
   },
   {
    "duration": 244,
    "start_time": "2025-03-17T13:56:41.066Z"
   },
   {
    "duration": 209,
    "start_time": "2025-03-17T13:56:41.315Z"
   },
   {
    "duration": 114,
    "start_time": "2025-03-17T13:56:41.526Z"
   },
   {
    "duration": 31711,
    "start_time": "2025-03-17T13:56:41.642Z"
   },
   {
    "duration": 6482,
    "start_time": "2025-03-17T13:57:13.355Z"
   },
   {
    "duration": 1313,
    "start_time": "2025-03-17T13:57:19.839Z"
   },
   {
    "duration": 6,
    "start_time": "2025-03-17T13:57:21.154Z"
   },
   {
    "duration": 1390,
    "start_time": "2025-03-17T13:57:21.162Z"
   },
   {
    "duration": 1594,
    "start_time": "2025-03-17T13:57:22.554Z"
   }
  ],
  "kernelspec": {
   "display_name": "Python 3 (ipykernel)",
   "language": "python",
   "name": "python3"
  },
  "language_info": {
   "codemirror_mode": {
    "name": "ipython",
    "version": 3
   },
   "file_extension": ".py",
   "mimetype": "text/x-python",
   "name": "python",
   "nbconvert_exporter": "python",
   "pygments_lexer": "ipython3",
   "version": "3.9.19"
  },
  "toc": {
   "base_numbering": 1,
   "nav_menu": {},
   "number_sections": true,
   "sideBar": true,
   "skip_h1_title": true,
   "title_cell": "Table of Contents",
   "title_sidebar": "Contents",
   "toc_cell": false,
   "toc_position": {},
   "toc_section_display": true,
   "toc_window_display": true
  }
 },
 "nbformat": 4,
 "nbformat_minor": 5
}
